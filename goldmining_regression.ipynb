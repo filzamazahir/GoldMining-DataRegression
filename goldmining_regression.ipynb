{
 "cells": [
  {
   "cell_type": "markdown",
   "metadata": {},
   "source": [
    "# Zyfra - Gold Recovery Project"
   ]
  },
  {
   "cell_type": "markdown",
   "metadata": {},
   "source": [
    "## Introduction\n",
    "\n",
    "We will be preparing a prototype of a machine learning model for Zyfra, a company develops efficiency solutions for heavy industry. The model should predict the amount of gold recovered from gold ore, given the data on extraction and purification.\n",
    "\n",
    "We will apply different models (Random Forest Regressor, Linear Regression, and Decision Tree Regressor) and picking the best one based on the lowest sMAPE (evaluation metric) value."
   ]
  },
  {
   "cell_type": "markdown",
   "metadata": {},
   "source": [
    "## Preprocessing Data"
   ]
  },
  {
   "cell_type": "code",
   "execution_count": 2,
   "metadata": {},
   "outputs": [],
   "source": [
    "# Import Libraries\n",
    "\n",
    "import pandas as pd\n",
    "import numpy as np\n",
    "\n",
    "from sklearn.metrics import mean_absolute_error\n",
    "from matplotlib import pyplot as plt\n",
    "from sklearn.preprocessing import StandardScaler\n",
    "from sklearn.model_selection import cross_val_score\n",
    "\n",
    "from sklearn.ensemble import RandomForestRegressor\n",
    "from sklearn.linear_model import LinearRegression\n",
    "from sklearn.tree import DecisionTreeRegressor"
   ]
  },
  {
   "cell_type": "code",
   "execution_count": 3,
   "metadata": {},
   "outputs": [],
   "source": [
    "# Download dataset\n",
    "\n",
    "# Training Dataset\n",
    "training_data = pd.read_csv('/datasets/gold_recovery_train.csv')\n",
    "\n",
    "# Test Dataset\n",
    "test_data = pd.read_csv('/datasets/gold_recovery_test.csv')\n",
    "\n",
    "#Source Dataset\n",
    "full_data = pd.read_csv('/datasets/gold_recovery_full.csv')"
   ]
  },
  {
   "cell_type": "code",
   "execution_count": 4,
   "metadata": {},
   "outputs": [
    {
     "name": "stdout",
     "output_type": "stream",
     "text": [
      "<class 'pandas.core.frame.DataFrame'>\n",
      "RangeIndex: 16860 entries, 0 to 16859\n",
      "Data columns (total 87 columns):\n",
      " #   Column                                              Non-Null Count  Dtype  \n",
      "---  ------                                              --------------  -----  \n",
      " 0   date                                                16860 non-null  object \n",
      " 1   final.output.concentrate_ag                         16788 non-null  float64\n",
      " 2   final.output.concentrate_pb                         16788 non-null  float64\n",
      " 3   final.output.concentrate_sol                        16490 non-null  float64\n",
      " 4   final.output.concentrate_au                         16789 non-null  float64\n",
      " 5   final.output.recovery                               15339 non-null  float64\n",
      " 6   final.output.tail_ag                                16794 non-null  float64\n",
      " 7   final.output.tail_pb                                16677 non-null  float64\n",
      " 8   final.output.tail_sol                               16715 non-null  float64\n",
      " 9   final.output.tail_au                                16794 non-null  float64\n",
      " 10  primary_cleaner.input.sulfate                       15553 non-null  float64\n",
      " 11  primary_cleaner.input.depressant                    15598 non-null  float64\n",
      " 12  primary_cleaner.input.feed_size                     16860 non-null  float64\n",
      " 13  primary_cleaner.input.xanthate                      15875 non-null  float64\n",
      " 14  primary_cleaner.output.concentrate_ag               16778 non-null  float64\n",
      " 15  primary_cleaner.output.concentrate_pb               16502 non-null  float64\n",
      " 16  primary_cleaner.output.concentrate_sol              16224 non-null  float64\n",
      " 17  primary_cleaner.output.concentrate_au               16778 non-null  float64\n",
      " 18  primary_cleaner.output.tail_ag                      16777 non-null  float64\n",
      " 19  primary_cleaner.output.tail_pb                      16761 non-null  float64\n",
      " 20  primary_cleaner.output.tail_sol                     16579 non-null  float64\n",
      " 21  primary_cleaner.output.tail_au                      16777 non-null  float64\n",
      " 22  primary_cleaner.state.floatbank8_a_air              16820 non-null  float64\n",
      " 23  primary_cleaner.state.floatbank8_a_level            16827 non-null  float64\n",
      " 24  primary_cleaner.state.floatbank8_b_air              16820 non-null  float64\n",
      " 25  primary_cleaner.state.floatbank8_b_level            16833 non-null  float64\n",
      " 26  primary_cleaner.state.floatbank8_c_air              16822 non-null  float64\n",
      " 27  primary_cleaner.state.floatbank8_c_level            16833 non-null  float64\n",
      " 28  primary_cleaner.state.floatbank8_d_air              16821 non-null  float64\n",
      " 29  primary_cleaner.state.floatbank8_d_level            16833 non-null  float64\n",
      " 30  rougher.calculation.sulfate_to_au_concentrate       16833 non-null  float64\n",
      " 31  rougher.calculation.floatbank10_sulfate_to_au_feed  16833 non-null  float64\n",
      " 32  rougher.calculation.floatbank11_sulfate_to_au_feed  16833 non-null  float64\n",
      " 33  rougher.calculation.au_pb_ratio                     15618 non-null  float64\n",
      " 34  rougher.input.feed_ag                               16778 non-null  float64\n",
      " 35  rougher.input.feed_pb                               16632 non-null  float64\n",
      " 36  rougher.input.feed_rate                             16347 non-null  float64\n",
      " 37  rougher.input.feed_size                             16443 non-null  float64\n",
      " 38  rougher.input.feed_sol                              16568 non-null  float64\n",
      " 39  rougher.input.feed_au                               16777 non-null  float64\n",
      " 40  rougher.input.floatbank10_sulfate                   15816 non-null  float64\n",
      " 41  rougher.input.floatbank10_xanthate                  16514 non-null  float64\n",
      " 42  rougher.input.floatbank11_sulfate                   16237 non-null  float64\n",
      " 43  rougher.input.floatbank11_xanthate                  14956 non-null  float64\n",
      " 44  rougher.output.concentrate_ag                       16778 non-null  float64\n",
      " 45  rougher.output.concentrate_pb                       16778 non-null  float64\n",
      " 46  rougher.output.concentrate_sol                      16698 non-null  float64\n",
      " 47  rougher.output.concentrate_au                       16778 non-null  float64\n",
      " 48  rougher.output.recovery                             14287 non-null  float64\n",
      " 49  rougher.output.tail_ag                              14610 non-null  float64\n",
      " 50  rougher.output.tail_pb                              16778 non-null  float64\n",
      " 51  rougher.output.tail_sol                             14611 non-null  float64\n",
      " 52  rougher.output.tail_au                              14611 non-null  float64\n",
      " 53  rougher.state.floatbank10_a_air                     16807 non-null  float64\n",
      " 54  rougher.state.floatbank10_a_level                   16807 non-null  float64\n",
      " 55  rougher.state.floatbank10_b_air                     16807 non-null  float64\n",
      " 56  rougher.state.floatbank10_b_level                   16807 non-null  float64\n",
      " 57  rougher.state.floatbank10_c_air                     16807 non-null  float64\n",
      " 58  rougher.state.floatbank10_c_level                   16814 non-null  float64\n",
      " 59  rougher.state.floatbank10_d_air                     16802 non-null  float64\n",
      " 60  rougher.state.floatbank10_d_level                   16809 non-null  float64\n",
      " 61  rougher.state.floatbank10_e_air                     16257 non-null  float64\n",
      " 62  rougher.state.floatbank10_e_level                   16809 non-null  float64\n",
      " 63  rougher.state.floatbank10_f_air                     16802 non-null  float64\n",
      " 64  rougher.state.floatbank10_f_level                   16802 non-null  float64\n",
      " 65  secondary_cleaner.output.tail_ag                    16776 non-null  float64\n",
      " 66  secondary_cleaner.output.tail_pb                    16764 non-null  float64\n",
      " 67  secondary_cleaner.output.tail_sol                   14874 non-null  float64\n",
      " 68  secondary_cleaner.output.tail_au                    16778 non-null  float64\n",
      " 69  secondary_cleaner.state.floatbank2_a_air            16497 non-null  float64\n",
      " 70  secondary_cleaner.state.floatbank2_a_level          16751 non-null  float64\n",
      " 71  secondary_cleaner.state.floatbank2_b_air            16705 non-null  float64\n",
      " 72  secondary_cleaner.state.floatbank2_b_level          16748 non-null  float64\n",
      " 73  secondary_cleaner.state.floatbank3_a_air            16763 non-null  float64\n",
      " 74  secondary_cleaner.state.floatbank3_a_level          16747 non-null  float64\n",
      " 75  secondary_cleaner.state.floatbank3_b_air            16752 non-null  float64\n",
      " 76  secondary_cleaner.state.floatbank3_b_level          16750 non-null  float64\n",
      " 77  secondary_cleaner.state.floatbank4_a_air            16731 non-null  float64\n",
      " 78  secondary_cleaner.state.floatbank4_a_level          16747 non-null  float64\n",
      " 79  secondary_cleaner.state.floatbank4_b_air            16768 non-null  float64\n",
      " 80  secondary_cleaner.state.floatbank4_b_level          16767 non-null  float64\n",
      " 81  secondary_cleaner.state.floatbank5_a_air            16775 non-null  float64\n",
      " 82  secondary_cleaner.state.floatbank5_a_level          16775 non-null  float64\n",
      " 83  secondary_cleaner.state.floatbank5_b_air            16775 non-null  float64\n",
      " 84  secondary_cleaner.state.floatbank5_b_level          16776 non-null  float64\n",
      " 85  secondary_cleaner.state.floatbank6_a_air            16757 non-null  float64\n",
      " 86  secondary_cleaner.state.floatbank6_a_level          16775 non-null  float64\n",
      "dtypes: float64(86), object(1)\n",
      "memory usage: 11.2+ MB\n",
      "None\n"
     ]
    },
    {
     "data": {
      "text/html": [
       "<div>\n",
       "<style scoped>\n",
       "    .dataframe tbody tr th:only-of-type {\n",
       "        vertical-align: middle;\n",
       "    }\n",
       "\n",
       "    .dataframe tbody tr th {\n",
       "        vertical-align: top;\n",
       "    }\n",
       "\n",
       "    .dataframe thead th {\n",
       "        text-align: right;\n",
       "    }\n",
       "</style>\n",
       "<table border=\"1\" class=\"dataframe\">\n",
       "  <thead>\n",
       "    <tr style=\"text-align: right;\">\n",
       "      <th></th>\n",
       "      <th>date</th>\n",
       "      <th>final.output.concentrate_ag</th>\n",
       "      <th>final.output.concentrate_pb</th>\n",
       "      <th>final.output.concentrate_sol</th>\n",
       "      <th>final.output.concentrate_au</th>\n",
       "      <th>final.output.recovery</th>\n",
       "      <th>final.output.tail_ag</th>\n",
       "      <th>final.output.tail_pb</th>\n",
       "      <th>final.output.tail_sol</th>\n",
       "      <th>final.output.tail_au</th>\n",
       "      <th>...</th>\n",
       "      <th>secondary_cleaner.state.floatbank4_a_air</th>\n",
       "      <th>secondary_cleaner.state.floatbank4_a_level</th>\n",
       "      <th>secondary_cleaner.state.floatbank4_b_air</th>\n",
       "      <th>secondary_cleaner.state.floatbank4_b_level</th>\n",
       "      <th>secondary_cleaner.state.floatbank5_a_air</th>\n",
       "      <th>secondary_cleaner.state.floatbank5_a_level</th>\n",
       "      <th>secondary_cleaner.state.floatbank5_b_air</th>\n",
       "      <th>secondary_cleaner.state.floatbank5_b_level</th>\n",
       "      <th>secondary_cleaner.state.floatbank6_a_air</th>\n",
       "      <th>secondary_cleaner.state.floatbank6_a_level</th>\n",
       "    </tr>\n",
       "  </thead>\n",
       "  <tbody>\n",
       "    <tr>\n",
       "      <th>0</th>\n",
       "      <td>2016-01-15 00:00:00</td>\n",
       "      <td>6.055403</td>\n",
       "      <td>9.889648</td>\n",
       "      <td>5.507324</td>\n",
       "      <td>42.192020</td>\n",
       "      <td>70.541216</td>\n",
       "      <td>10.411962</td>\n",
       "      <td>0.895447</td>\n",
       "      <td>16.904297</td>\n",
       "      <td>2.143149</td>\n",
       "      <td>...</td>\n",
       "      <td>14.016835</td>\n",
       "      <td>-502.488007</td>\n",
       "      <td>12.099931</td>\n",
       "      <td>-504.715942</td>\n",
       "      <td>9.925633</td>\n",
       "      <td>-498.310211</td>\n",
       "      <td>8.079666</td>\n",
       "      <td>-500.470978</td>\n",
       "      <td>14.151341</td>\n",
       "      <td>-605.841980</td>\n",
       "    </tr>\n",
       "    <tr>\n",
       "      <th>1</th>\n",
       "      <td>2016-01-15 01:00:00</td>\n",
       "      <td>6.029369</td>\n",
       "      <td>9.968944</td>\n",
       "      <td>5.257781</td>\n",
       "      <td>42.701629</td>\n",
       "      <td>69.266198</td>\n",
       "      <td>10.462676</td>\n",
       "      <td>0.927452</td>\n",
       "      <td>16.634514</td>\n",
       "      <td>2.224930</td>\n",
       "      <td>...</td>\n",
       "      <td>13.992281</td>\n",
       "      <td>-505.503262</td>\n",
       "      <td>11.950531</td>\n",
       "      <td>-501.331529</td>\n",
       "      <td>10.039245</td>\n",
       "      <td>-500.169983</td>\n",
       "      <td>7.984757</td>\n",
       "      <td>-500.582168</td>\n",
       "      <td>13.998353</td>\n",
       "      <td>-599.787184</td>\n",
       "    </tr>\n",
       "    <tr>\n",
       "      <th>2</th>\n",
       "      <td>2016-01-15 02:00:00</td>\n",
       "      <td>6.055926</td>\n",
       "      <td>10.213995</td>\n",
       "      <td>5.383759</td>\n",
       "      <td>42.657501</td>\n",
       "      <td>68.116445</td>\n",
       "      <td>10.507046</td>\n",
       "      <td>0.953716</td>\n",
       "      <td>16.208849</td>\n",
       "      <td>2.257889</td>\n",
       "      <td>...</td>\n",
       "      <td>14.015015</td>\n",
       "      <td>-502.520901</td>\n",
       "      <td>11.912783</td>\n",
       "      <td>-501.133383</td>\n",
       "      <td>10.070913</td>\n",
       "      <td>-500.129135</td>\n",
       "      <td>8.013877</td>\n",
       "      <td>-500.517572</td>\n",
       "      <td>14.028663</td>\n",
       "      <td>-601.427363</td>\n",
       "    </tr>\n",
       "    <tr>\n",
       "      <th>3</th>\n",
       "      <td>2016-01-15 03:00:00</td>\n",
       "      <td>6.047977</td>\n",
       "      <td>9.977019</td>\n",
       "      <td>4.858634</td>\n",
       "      <td>42.689819</td>\n",
       "      <td>68.347543</td>\n",
       "      <td>10.422762</td>\n",
       "      <td>0.883763</td>\n",
       "      <td>16.532835</td>\n",
       "      <td>2.146849</td>\n",
       "      <td>...</td>\n",
       "      <td>14.036510</td>\n",
       "      <td>-500.857308</td>\n",
       "      <td>11.999550</td>\n",
       "      <td>-501.193686</td>\n",
       "      <td>9.970366</td>\n",
       "      <td>-499.201640</td>\n",
       "      <td>7.977324</td>\n",
       "      <td>-500.255908</td>\n",
       "      <td>14.005551</td>\n",
       "      <td>-599.996129</td>\n",
       "    </tr>\n",
       "    <tr>\n",
       "      <th>4</th>\n",
       "      <td>2016-01-15 04:00:00</td>\n",
       "      <td>6.148599</td>\n",
       "      <td>10.142511</td>\n",
       "      <td>4.939416</td>\n",
       "      <td>42.774141</td>\n",
       "      <td>66.927016</td>\n",
       "      <td>10.360302</td>\n",
       "      <td>0.792826</td>\n",
       "      <td>16.525686</td>\n",
       "      <td>2.055292</td>\n",
       "      <td>...</td>\n",
       "      <td>14.027298</td>\n",
       "      <td>-499.838632</td>\n",
       "      <td>11.953070</td>\n",
       "      <td>-501.053894</td>\n",
       "      <td>9.925709</td>\n",
       "      <td>-501.686727</td>\n",
       "      <td>7.894242</td>\n",
       "      <td>-500.356035</td>\n",
       "      <td>13.996647</td>\n",
       "      <td>-601.496691</td>\n",
       "    </tr>\n",
       "    <tr>\n",
       "      <th>...</th>\n",
       "      <td>...</td>\n",
       "      <td>...</td>\n",
       "      <td>...</td>\n",
       "      <td>...</td>\n",
       "      <td>...</td>\n",
       "      <td>...</td>\n",
       "      <td>...</td>\n",
       "      <td>...</td>\n",
       "      <td>...</td>\n",
       "      <td>...</td>\n",
       "      <td>...</td>\n",
       "      <td>...</td>\n",
       "      <td>...</td>\n",
       "      <td>...</td>\n",
       "      <td>...</td>\n",
       "      <td>...</td>\n",
       "      <td>...</td>\n",
       "      <td>...</td>\n",
       "      <td>...</td>\n",
       "      <td>...</td>\n",
       "      <td>...</td>\n",
       "    </tr>\n",
       "    <tr>\n",
       "      <th>16855</th>\n",
       "      <td>2018-08-18 06:59:59</td>\n",
       "      <td>3.224920</td>\n",
       "      <td>11.356233</td>\n",
       "      <td>6.803482</td>\n",
       "      <td>46.713954</td>\n",
       "      <td>73.755150</td>\n",
       "      <td>8.769645</td>\n",
       "      <td>3.141541</td>\n",
       "      <td>10.403181</td>\n",
       "      <td>1.529220</td>\n",
       "      <td>...</td>\n",
       "      <td>23.031497</td>\n",
       "      <td>-501.167942</td>\n",
       "      <td>20.007571</td>\n",
       "      <td>-499.740028</td>\n",
       "      <td>18.006038</td>\n",
       "      <td>-499.834374</td>\n",
       "      <td>13.001114</td>\n",
       "      <td>-500.155694</td>\n",
       "      <td>20.007840</td>\n",
       "      <td>-501.296428</td>\n",
       "    </tr>\n",
       "    <tr>\n",
       "      <th>16856</th>\n",
       "      <td>2018-08-18 07:59:59</td>\n",
       "      <td>3.195978</td>\n",
       "      <td>11.349355</td>\n",
       "      <td>6.862249</td>\n",
       "      <td>46.866780</td>\n",
       "      <td>69.049291</td>\n",
       "      <td>8.897321</td>\n",
       "      <td>3.130493</td>\n",
       "      <td>10.549470</td>\n",
       "      <td>1.612542</td>\n",
       "      <td>...</td>\n",
       "      <td>22.960095</td>\n",
       "      <td>-501.612783</td>\n",
       "      <td>20.035660</td>\n",
       "      <td>-500.251357</td>\n",
       "      <td>17.998535</td>\n",
       "      <td>-500.395178</td>\n",
       "      <td>12.954048</td>\n",
       "      <td>-499.895163</td>\n",
       "      <td>19.968498</td>\n",
       "      <td>-501.041608</td>\n",
       "    </tr>\n",
       "    <tr>\n",
       "      <th>16857</th>\n",
       "      <td>2018-08-18 08:59:59</td>\n",
       "      <td>3.109998</td>\n",
       "      <td>11.434366</td>\n",
       "      <td>6.886013</td>\n",
       "      <td>46.795691</td>\n",
       "      <td>67.002189</td>\n",
       "      <td>8.529606</td>\n",
       "      <td>2.911418</td>\n",
       "      <td>11.115147</td>\n",
       "      <td>1.596616</td>\n",
       "      <td>...</td>\n",
       "      <td>23.015718</td>\n",
       "      <td>-501.711599</td>\n",
       "      <td>19.951231</td>\n",
       "      <td>-499.857027</td>\n",
       "      <td>18.019543</td>\n",
       "      <td>-500.451156</td>\n",
       "      <td>13.023431</td>\n",
       "      <td>-499.914391</td>\n",
       "      <td>19.990885</td>\n",
       "      <td>-501.518452</td>\n",
       "    </tr>\n",
       "    <tr>\n",
       "      <th>16858</th>\n",
       "      <td>2018-08-18 09:59:59</td>\n",
       "      <td>3.367241</td>\n",
       "      <td>11.625587</td>\n",
       "      <td>6.799433</td>\n",
       "      <td>46.408188</td>\n",
       "      <td>65.523246</td>\n",
       "      <td>8.777171</td>\n",
       "      <td>2.819214</td>\n",
       "      <td>10.463847</td>\n",
       "      <td>1.602879</td>\n",
       "      <td>...</td>\n",
       "      <td>23.024963</td>\n",
       "      <td>-501.153409</td>\n",
       "      <td>20.054122</td>\n",
       "      <td>-500.314711</td>\n",
       "      <td>17.979515</td>\n",
       "      <td>-499.272871</td>\n",
       "      <td>12.992404</td>\n",
       "      <td>-499.976268</td>\n",
       "      <td>20.013986</td>\n",
       "      <td>-500.625471</td>\n",
       "    </tr>\n",
       "    <tr>\n",
       "      <th>16859</th>\n",
       "      <td>2018-08-18 10:59:59</td>\n",
       "      <td>3.598375</td>\n",
       "      <td>11.737832</td>\n",
       "      <td>6.717509</td>\n",
       "      <td>46.299438</td>\n",
       "      <td>70.281454</td>\n",
       "      <td>8.406690</td>\n",
       "      <td>2.517518</td>\n",
       "      <td>10.652193</td>\n",
       "      <td>1.389434</td>\n",
       "      <td>...</td>\n",
       "      <td>23.018622</td>\n",
       "      <td>-500.492702</td>\n",
       "      <td>20.020205</td>\n",
       "      <td>-500.220296</td>\n",
       "      <td>17.963512</td>\n",
       "      <td>-499.939490</td>\n",
       "      <td>12.990306</td>\n",
       "      <td>-500.080993</td>\n",
       "      <td>19.990336</td>\n",
       "      <td>-499.191575</td>\n",
       "    </tr>\n",
       "  </tbody>\n",
       "</table>\n",
       "<p>16860 rows × 87 columns</p>\n",
       "</div>"
      ],
      "text/plain": [
       "                      date  final.output.concentrate_ag  \\\n",
       "0      2016-01-15 00:00:00                     6.055403   \n",
       "1      2016-01-15 01:00:00                     6.029369   \n",
       "2      2016-01-15 02:00:00                     6.055926   \n",
       "3      2016-01-15 03:00:00                     6.047977   \n",
       "4      2016-01-15 04:00:00                     6.148599   \n",
       "...                    ...                          ...   \n",
       "16855  2018-08-18 06:59:59                     3.224920   \n",
       "16856  2018-08-18 07:59:59                     3.195978   \n",
       "16857  2018-08-18 08:59:59                     3.109998   \n",
       "16858  2018-08-18 09:59:59                     3.367241   \n",
       "16859  2018-08-18 10:59:59                     3.598375   \n",
       "\n",
       "       final.output.concentrate_pb  final.output.concentrate_sol  \\\n",
       "0                         9.889648                      5.507324   \n",
       "1                         9.968944                      5.257781   \n",
       "2                        10.213995                      5.383759   \n",
       "3                         9.977019                      4.858634   \n",
       "4                        10.142511                      4.939416   \n",
       "...                            ...                           ...   \n",
       "16855                    11.356233                      6.803482   \n",
       "16856                    11.349355                      6.862249   \n",
       "16857                    11.434366                      6.886013   \n",
       "16858                    11.625587                      6.799433   \n",
       "16859                    11.737832                      6.717509   \n",
       "\n",
       "       final.output.concentrate_au  final.output.recovery  \\\n",
       "0                        42.192020              70.541216   \n",
       "1                        42.701629              69.266198   \n",
       "2                        42.657501              68.116445   \n",
       "3                        42.689819              68.347543   \n",
       "4                        42.774141              66.927016   \n",
       "...                            ...                    ...   \n",
       "16855                    46.713954              73.755150   \n",
       "16856                    46.866780              69.049291   \n",
       "16857                    46.795691              67.002189   \n",
       "16858                    46.408188              65.523246   \n",
       "16859                    46.299438              70.281454   \n",
       "\n",
       "       final.output.tail_ag  final.output.tail_pb  final.output.tail_sol  \\\n",
       "0                 10.411962              0.895447              16.904297   \n",
       "1                 10.462676              0.927452              16.634514   \n",
       "2                 10.507046              0.953716              16.208849   \n",
       "3                 10.422762              0.883763              16.532835   \n",
       "4                 10.360302              0.792826              16.525686   \n",
       "...                     ...                   ...                    ...   \n",
       "16855              8.769645              3.141541              10.403181   \n",
       "16856              8.897321              3.130493              10.549470   \n",
       "16857              8.529606              2.911418              11.115147   \n",
       "16858              8.777171              2.819214              10.463847   \n",
       "16859              8.406690              2.517518              10.652193   \n",
       "\n",
       "       final.output.tail_au  ...  secondary_cleaner.state.floatbank4_a_air  \\\n",
       "0                  2.143149  ...                                 14.016835   \n",
       "1                  2.224930  ...                                 13.992281   \n",
       "2                  2.257889  ...                                 14.015015   \n",
       "3                  2.146849  ...                                 14.036510   \n",
       "4                  2.055292  ...                                 14.027298   \n",
       "...                     ...  ...                                       ...   \n",
       "16855              1.529220  ...                                 23.031497   \n",
       "16856              1.612542  ...                                 22.960095   \n",
       "16857              1.596616  ...                                 23.015718   \n",
       "16858              1.602879  ...                                 23.024963   \n",
       "16859              1.389434  ...                                 23.018622   \n",
       "\n",
       "       secondary_cleaner.state.floatbank4_a_level  \\\n",
       "0                                     -502.488007   \n",
       "1                                     -505.503262   \n",
       "2                                     -502.520901   \n",
       "3                                     -500.857308   \n",
       "4                                     -499.838632   \n",
       "...                                           ...   \n",
       "16855                                 -501.167942   \n",
       "16856                                 -501.612783   \n",
       "16857                                 -501.711599   \n",
       "16858                                 -501.153409   \n",
       "16859                                 -500.492702   \n",
       "\n",
       "       secondary_cleaner.state.floatbank4_b_air  \\\n",
       "0                                     12.099931   \n",
       "1                                     11.950531   \n",
       "2                                     11.912783   \n",
       "3                                     11.999550   \n",
       "4                                     11.953070   \n",
       "...                                         ...   \n",
       "16855                                 20.007571   \n",
       "16856                                 20.035660   \n",
       "16857                                 19.951231   \n",
       "16858                                 20.054122   \n",
       "16859                                 20.020205   \n",
       "\n",
       "       secondary_cleaner.state.floatbank4_b_level  \\\n",
       "0                                     -504.715942   \n",
       "1                                     -501.331529   \n",
       "2                                     -501.133383   \n",
       "3                                     -501.193686   \n",
       "4                                     -501.053894   \n",
       "...                                           ...   \n",
       "16855                                 -499.740028   \n",
       "16856                                 -500.251357   \n",
       "16857                                 -499.857027   \n",
       "16858                                 -500.314711   \n",
       "16859                                 -500.220296   \n",
       "\n",
       "       secondary_cleaner.state.floatbank5_a_air  \\\n",
       "0                                      9.925633   \n",
       "1                                     10.039245   \n",
       "2                                     10.070913   \n",
       "3                                      9.970366   \n",
       "4                                      9.925709   \n",
       "...                                         ...   \n",
       "16855                                 18.006038   \n",
       "16856                                 17.998535   \n",
       "16857                                 18.019543   \n",
       "16858                                 17.979515   \n",
       "16859                                 17.963512   \n",
       "\n",
       "       secondary_cleaner.state.floatbank5_a_level  \\\n",
       "0                                     -498.310211   \n",
       "1                                     -500.169983   \n",
       "2                                     -500.129135   \n",
       "3                                     -499.201640   \n",
       "4                                     -501.686727   \n",
       "...                                           ...   \n",
       "16855                                 -499.834374   \n",
       "16856                                 -500.395178   \n",
       "16857                                 -500.451156   \n",
       "16858                                 -499.272871   \n",
       "16859                                 -499.939490   \n",
       "\n",
       "       secondary_cleaner.state.floatbank5_b_air  \\\n",
       "0                                      8.079666   \n",
       "1                                      7.984757   \n",
       "2                                      8.013877   \n",
       "3                                      7.977324   \n",
       "4                                      7.894242   \n",
       "...                                         ...   \n",
       "16855                                 13.001114   \n",
       "16856                                 12.954048   \n",
       "16857                                 13.023431   \n",
       "16858                                 12.992404   \n",
       "16859                                 12.990306   \n",
       "\n",
       "       secondary_cleaner.state.floatbank5_b_level  \\\n",
       "0                                     -500.470978   \n",
       "1                                     -500.582168   \n",
       "2                                     -500.517572   \n",
       "3                                     -500.255908   \n",
       "4                                     -500.356035   \n",
       "...                                           ...   \n",
       "16855                                 -500.155694   \n",
       "16856                                 -499.895163   \n",
       "16857                                 -499.914391   \n",
       "16858                                 -499.976268   \n",
       "16859                                 -500.080993   \n",
       "\n",
       "       secondary_cleaner.state.floatbank6_a_air  \\\n",
       "0                                     14.151341   \n",
       "1                                     13.998353   \n",
       "2                                     14.028663   \n",
       "3                                     14.005551   \n",
       "4                                     13.996647   \n",
       "...                                         ...   \n",
       "16855                                 20.007840   \n",
       "16856                                 19.968498   \n",
       "16857                                 19.990885   \n",
       "16858                                 20.013986   \n",
       "16859                                 19.990336   \n",
       "\n",
       "       secondary_cleaner.state.floatbank6_a_level  \n",
       "0                                     -605.841980  \n",
       "1                                     -599.787184  \n",
       "2                                     -601.427363  \n",
       "3                                     -599.996129  \n",
       "4                                     -601.496691  \n",
       "...                                           ...  \n",
       "16855                                 -501.296428  \n",
       "16856                                 -501.041608  \n",
       "16857                                 -501.518452  \n",
       "16858                                 -500.625471  \n",
       "16859                                 -499.191575  \n",
       "\n",
       "[16860 rows x 87 columns]"
      ]
     },
     "execution_count": 4,
     "metadata": {},
     "output_type": "execute_result"
    }
   ],
   "source": [
    "# Check data types \n",
    "\n",
    "print(training_data.info())\n",
    "training_data.sample(10)"
   ]
  },
  {
   "cell_type": "code",
   "execution_count": 5,
   "metadata": {},
   "outputs": [
    {
     "name": "stdout",
     "output_type": "stream",
     "text": [
      "date                                            0\n",
      "final.output.concentrate_ag                    72\n",
      "final.output.concentrate_pb                    72\n",
      "final.output.concentrate_sol                  370\n",
      "final.output.concentrate_au                    71\n",
      "                                             ... \n",
      "secondary_cleaner.state.floatbank5_a_level     85\n",
      "secondary_cleaner.state.floatbank5_b_air       85\n",
      "secondary_cleaner.state.floatbank5_b_level     84\n",
      "secondary_cleaner.state.floatbank6_a_air      103\n",
      "secondary_cleaner.state.floatbank6_a_level     85\n",
      "Length: 87, dtype: int64\n",
      "date                                            0\n",
      "primary_cleaner.input.sulfate                 302\n",
      "primary_cleaner.input.depressant              284\n",
      "primary_cleaner.input.feed_size                 0\n",
      "primary_cleaner.input.xanthate                166\n",
      "primary_cleaner.state.floatbank8_a_air         16\n",
      "primary_cleaner.state.floatbank8_a_level       16\n",
      "primary_cleaner.state.floatbank8_b_air         16\n",
      "primary_cleaner.state.floatbank8_b_level       16\n",
      "primary_cleaner.state.floatbank8_c_air         16\n",
      "primary_cleaner.state.floatbank8_c_level       16\n",
      "primary_cleaner.state.floatbank8_d_air         16\n",
      "primary_cleaner.state.floatbank8_d_level       16\n",
      "rougher.input.feed_ag                          16\n",
      "rougher.input.feed_pb                          16\n",
      "rougher.input.feed_rate                        40\n",
      "rougher.input.feed_size                        22\n",
      "rougher.input.feed_sol                         67\n",
      "rougher.input.feed_au                          16\n",
      "rougher.input.floatbank10_sulfate             257\n",
      "rougher.input.floatbank10_xanthate            123\n",
      "rougher.input.floatbank11_sulfate              55\n",
      "rougher.input.floatbank11_xanthate            353\n",
      "rougher.state.floatbank10_a_air                17\n",
      "rougher.state.floatbank10_a_level              16\n",
      "rougher.state.floatbank10_b_air                17\n",
      "rougher.state.floatbank10_b_level              16\n",
      "rougher.state.floatbank10_c_air                17\n",
      "rougher.state.floatbank10_c_level              16\n",
      "rougher.state.floatbank10_d_air                17\n",
      "rougher.state.floatbank10_d_level              16\n",
      "rougher.state.floatbank10_e_air                17\n",
      "rougher.state.floatbank10_e_level              16\n",
      "rougher.state.floatbank10_f_air                17\n",
      "rougher.state.floatbank10_f_level              16\n",
      "secondary_cleaner.state.floatbank2_a_air       20\n",
      "secondary_cleaner.state.floatbank2_a_level     16\n",
      "secondary_cleaner.state.floatbank2_b_air       23\n",
      "secondary_cleaner.state.floatbank2_b_level     16\n",
      "secondary_cleaner.state.floatbank3_a_air       34\n",
      "secondary_cleaner.state.floatbank3_a_level     16\n",
      "secondary_cleaner.state.floatbank3_b_air       16\n",
      "secondary_cleaner.state.floatbank3_b_level     16\n",
      "secondary_cleaner.state.floatbank4_a_air       16\n",
      "secondary_cleaner.state.floatbank4_a_level     16\n",
      "secondary_cleaner.state.floatbank4_b_air       16\n",
      "secondary_cleaner.state.floatbank4_b_level     16\n",
      "secondary_cleaner.state.floatbank5_a_air       16\n",
      "secondary_cleaner.state.floatbank5_a_level     16\n",
      "secondary_cleaner.state.floatbank5_b_air       16\n",
      "secondary_cleaner.state.floatbank5_b_level     16\n",
      "secondary_cleaner.state.floatbank6_a_air       16\n",
      "secondary_cleaner.state.floatbank6_a_level     16\n",
      "dtype: int64\n"
     ]
    }
   ],
   "source": [
    "# Check for missing values\n",
    "\n",
    "print(training_data.isna().sum())\n",
    "print(test_data.isna().sum())"
   ]
  },
  {
   "cell_type": "markdown",
   "metadata": {},
   "source": [
    "Since the number of missing values is very little compared to the size of the dataset (less than 2.5% for the columns with the most missing values), the data with missing values is dropped"
   ]
  },
  {
   "cell_type": "code",
   "execution_count": 6,
   "metadata": {},
   "outputs": [
    {
     "name": "stdout",
     "output_type": "stream",
     "text": [
      "date                                          0\n",
      "final.output.concentrate_ag                   0\n",
      "final.output.concentrate_pb                   0\n",
      "final.output.concentrate_sol                  0\n",
      "final.output.concentrate_au                   0\n",
      "                                             ..\n",
      "secondary_cleaner.state.floatbank5_a_level    0\n",
      "secondary_cleaner.state.floatbank5_b_air      0\n",
      "secondary_cleaner.state.floatbank5_b_level    0\n",
      "secondary_cleaner.state.floatbank6_a_air      0\n",
      "secondary_cleaner.state.floatbank6_a_level    0\n",
      "Length: 87, dtype: int64\n"
     ]
    }
   ],
   "source": [
    "# Handling missing values\n",
    "\n",
    "training_data = training_data.dropna()\n",
    "test_data = test_data.dropna()\n",
    "\n",
    "print(training_data.isna().sum())\n"
   ]
  },
  {
   "cell_type": "code",
   "execution_count": 7,
   "metadata": {},
   "outputs": [
    {
     "name": "stdout",
     "output_type": "stream",
     "text": [
      "0\n"
     ]
    }
   ],
   "source": [
    "# Check for duplicates\n",
    "\n",
    "print(training_data.duplicated().sum())"
   ]
  },
  {
   "cell_type": "code",
   "execution_count": 6,
   "metadata": {},
   "outputs": [
    {
     "name": "stdout",
     "output_type": "stream",
     "text": [
      "MAE: 9.460144184559453e-15\n"
     ]
    },
    {
     "name": "stderr",
     "output_type": "stream",
     "text": [
      "/tmp/ipykernel_49/1293119985.py:3: SettingWithCopyWarning: \n",
      "A value is trying to be set on a copy of a slice from a DataFrame.\n",
      "Try using .loc[row_indexer,col_indexer] = value instead\n",
      "\n",
      "See the caveats in the documentation: https://pandas.pydata.org/pandas-docs/stable/user_guide/indexing.html#returning-a-view-versus-a-copy\n",
      "  training_data['calculated_recovery'] = (training_data['rougher.output.concentrate_au'] * (training_data['rougher.input.feed_au'] - training_data['rougher.output.tail_au'])) / (training_data['rougher.input.feed_au'] * (training_data['rougher.output.concentrate_au'] - training_data['rougher.output.tail_au'])) * 100\n"
     ]
    }
   ],
   "source": [
    "# Calculate recovery \n",
    "\n",
    "training_data['calculated_recovery'] = (training_data['rougher.output.concentrate_au'] * (training_data['rougher.input.feed_au'] - training_data['rougher.output.tail_au'])) / (training_data['rougher.input.feed_au'] * (training_data['rougher.output.concentrate_au'] - training_data['rougher.output.tail_au'])) * 100\n",
    "\n",
    "mae = mean_absolute_error(training_data['rougher.output.recovery'], training_data['calculated_recovery'])\n",
    "\n",
    "print('MAE:', mae)\n",
    "   "
   ]
  },
  {
   "cell_type": "markdown",
   "metadata": {},
   "source": [
    "The MAE between the calculted recovery and the output from the dataset is quite low, so any models we apply should have a lower MAE for the model to make sense."
   ]
  },
  {
   "cell_type": "code",
   "execution_count": 7,
   "metadata": {},
   "outputs": [
    {
     "name": "stdout",
     "output_type": "stream",
     "text": [
      "Feature: calculated_recovery, Type: float64\n",
      "Feature: primary_cleaner.output.tail_ag, Type: float64\n",
      "Feature: final.output.concentrate_au, Type: float64\n",
      "Feature: final.output.tail_au, Type: float64\n",
      "Feature: rougher.calculation.floatbank11_sulfate_to_au_feed, Type: float64\n",
      "Feature: rougher.calculation.floatbank10_sulfate_to_au_feed, Type: float64\n",
      "Feature: secondary_cleaner.output.tail_ag, Type: float64\n",
      "Feature: rougher.output.tail_sol, Type: float64\n",
      "Feature: final.output.tail_pb, Type: float64\n",
      "Feature: rougher.output.tail_ag, Type: float64\n",
      "Feature: rougher.calculation.sulfate_to_au_concentrate, Type: float64\n",
      "Feature: secondary_cleaner.output.tail_sol, Type: float64\n",
      "Feature: primary_cleaner.output.tail_au, Type: float64\n",
      "Feature: primary_cleaner.output.tail_sol, Type: float64\n",
      "Feature: primary_cleaner.output.tail_pb, Type: float64\n",
      "Feature: rougher.output.concentrate_sol, Type: float64\n",
      "Feature: final.output.recovery, Type: float64\n",
      "Feature: rougher.calculation.au_pb_ratio, Type: float64\n",
      "Feature: primary_cleaner.output.concentrate_au, Type: float64\n",
      "Feature: final.output.tail_sol, Type: float64\n",
      "Feature: rougher.output.recovery, Type: float64\n",
      "Feature: final.output.concentrate_sol, Type: float64\n",
      "Feature: final.output.concentrate_pb, Type: float64\n",
      "Feature: rougher.output.tail_au, Type: float64\n",
      "Feature: rougher.output.concentrate_pb, Type: float64\n",
      "Feature: final.output.tail_ag, Type: float64\n",
      "Feature: final.output.concentrate_ag, Type: float64\n",
      "Feature: rougher.output.tail_pb, Type: float64\n",
      "Feature: primary_cleaner.output.concentrate_sol, Type: float64\n",
      "Feature: rougher.output.concentrate_au, Type: float64\n",
      "Feature: primary_cleaner.output.concentrate_ag, Type: float64\n",
      "Feature: secondary_cleaner.output.tail_au, Type: float64\n",
      "Feature: secondary_cleaner.output.tail_pb, Type: float64\n",
      "Feature: primary_cleaner.output.concentrate_pb, Type: float64\n",
      "Feature: rougher.output.concentrate_ag, Type: float64\n"
     ]
    }
   ],
   "source": [
    "# Features not available in test set\n",
    "\n",
    "# Identify features in train that are not in test\n",
    "missing_features = set(training_data.columns) - set(test_data.columns)\n",
    "\n",
    "# Print out the missing features and their types\n",
    "for feature in missing_features:\n",
    "    print(f\"Feature: {feature}, Type: {training_data[feature].dtype}\")\n"
   ]
  },
  {
   "cell_type": "markdown",
   "metadata": {},
   "source": [
    "The above features are not present in the test dataset, and all have the float64 datatype. As it can be seen, the features missing from the test set has to do with silver (ag) and lead (pb), because technically these values shouldn't impact predicting the amount of gold extracted which is the purpose of this project."
   ]
  },
  {
   "cell_type": "code",
   "execution_count": 8,
   "metadata": {},
   "outputs": [],
   "source": [
    "# Scaling numerical features\n",
    "scaler = StandardScaler()\n",
    "training_features = training_data.drop('date', axis=1)\n",
    "training_features_scaled = scaler.fit_transform(training_features)"
   ]
  },
  {
   "cell_type": "markdown",
   "metadata": {},
   "source": [
    "Data Scaling made the sMAPE value a lot higher so the scaled data is not used, instead the original was."
   ]
  },
  {
   "cell_type": "markdown",
   "metadata": {},
   "source": [
    "## Data Analysis"
   ]
  },
  {
   "cell_type": "markdown",
   "metadata": {},
   "source": [
    "### Concentration of Metals"
   ]
  },
  {
   "cell_type": "code",
   "execution_count": 8,
   "metadata": {},
   "outputs": [
    {
     "data": {
      "image/png": "[encoded data removed]",
      "text/plain": [
       "<Figure size 1000x600 with 1 Axes>"
      ]
     },
     "metadata": {},
     "output_type": "display_data"
    }
   ],
   "source": [
    "# Concentrations of metals Au changing depending on the purification stage\n",
    "\n",
    "plt.figure(figsize=(10, 6))\n",
    "training_data['final.output.concentrate_au'].plot( kind='hist',\n",
    "                                                    title = 'Concentration of Au at different stages',\n",
    "                                                    ylabel = 'Frequency',\n",
    "                                                    xlabel = 'Concentration',\n",
    "                                                    bins = 30,\n",
    "                                                    alpha = 0.6,\n",
    "                                                    density = True\n",
    "                                                 )\n",
    "training_data['primary_cleaner.output.concentrate_au'].plot( kind='hist',\n",
    "                                                    bins = 30,\n",
    "                                                    alpha = 0.4,\n",
    "                                                    density = True\n",
    "                                                           )\n",
    "training_data['rougher.output.concentrate_au'].plot( kind='hist',\n",
    "                                                    bins = 30,\n",
    "                                                    alpha = 0.2,\n",
    "                                                    density = True\n",
    "                                                           )\n",
    "plt.legend(['Final', 'Primary Purification', 'Rougher'])\n",
    "plt.show()\n"
   ]
  },
  {
   "cell_type": "markdown",
   "metadata": {},
   "source": [
    "For gold (Au), the concentration in the initial rougher stage is much lower, then as the purification process is done the concentration increases with the highest concentration being in in the final output."
   ]
  },
  {
   "cell_type": "code",
   "execution_count": 10,
   "metadata": {},
   "outputs": [
    {
     "data": {
      "image/png": "[encoded data removed]",
      "text/plain": [
       "<Figure size 1000x600 with 1 Axes>"
      ]
     },
     "metadata": {},
     "output_type": "display_data"
    }
   ],
   "source": [
    "# Concentrations of metals Ag changing depending on the purification stage\n",
    "\n",
    "plt.figure(figsize=(10, 6))\n",
    "training_data['final.output.concentrate_ag'].plot( kind='hist',\n",
    "                                                    title = 'Concentration of Ag at different stages',\n",
    "                                                    ylabel = 'Frequency',\n",
    "                                                    xlabel = 'Concentration',\n",
    "                                                    bins = 30,\n",
    "                                                    alpha = 0.6,\n",
    "                                                    density = True\n",
    "                                                 )\n",
    "training_data['primary_cleaner.output.concentrate_ag'].plot( kind='hist',\n",
    "                                                    bins = 30,\n",
    "                                                    alpha = 0.4,\n",
    "                                                    density = True\n",
    "                                                           )\n",
    "training_data['rougher.output.concentrate_ag'].plot( kind='hist',\n",
    "                                                    bins = 30,\n",
    "                                                    alpha = 0.2,\n",
    "                                                    density = True\n",
    "                                                           )\n",
    "plt.legend(['Final', 'Primary Purification', 'Rougher'])\n",
    "plt.show()"
   ]
  },
  {
   "cell_type": "markdown",
   "metadata": {},
   "source": [
    "Silver (Ag) had an opposite trend from gold, the initial rougher stage had a lot more concentration of silver, but it decreased along with the purification process in the final output."
   ]
  },
  {
   "cell_type": "code",
   "execution_count": 11,
   "metadata": {},
   "outputs": [
    {
     "data": {
      "image/png": "[encoded data removed]",
      "text/plain": [
       "<Figure size 1000x600 with 1 Axes>"
      ]
     },
     "metadata": {},
     "output_type": "display_data"
    }
   ],
   "source": [
    "# Concentrations of metals Pb changing depending on the purification stage\n",
    "\n",
    "plt.figure(figsize=(10, 6))\n",
    "training_data['final.output.concentrate_pb'].plot( kind='hist',\n",
    "                                                    title = 'Concentration of Pb at different stages',\n",
    "                                                    ylabel = 'Frequency',\n",
    "                                                    xlabel = 'Concentration',\n",
    "                                                    bins = 30,\n",
    "                                                    alpha = 0.6,\n",
    "                                                    density = True\n",
    "                                                 )\n",
    "training_data['primary_cleaner.output.concentrate_pb'].plot( kind='hist',\n",
    "                                                    bins = 30,\n",
    "                                                    alpha = 0.4,\n",
    "                                                    density = True\n",
    "                                                           )\n",
    "training_data['rougher.output.concentrate_pb'].plot( kind='hist',\n",
    "                                                    bins = 30,\n",
    "                                                    alpha = 0.2,\n",
    "                                                    density = True\n",
    "                                                           )\n",
    "plt.legend(['Final', 'Primary Purification', 'Rougher'])\n",
    "plt.show()"
   ]
  },
  {
   "cell_type": "markdown",
   "metadata": {},
   "source": [
    "Lead (Pb) had a somewhat similar trend as gold in terms of its concentration increasing throughout the purification stage, but the change was very subtle, and there wasn't s significant change in concentration from the primary purification stage to the final output."
   ]
  },
  {
   "cell_type": "markdown",
   "metadata": {},
   "source": [
    "### Feed Particle Size Distribution"
   ]
  },
  {
   "cell_type": "code",
   "execution_count": 12,
   "metadata": {},
   "outputs": [
    {
     "data": {
      "image/png": "[encoded data removed]",
      "text/plain": [
       "<Figure size 1000x600 with 1 Axes>"
      ]
     },
     "metadata": {},
     "output_type": "display_data"
    }
   ],
   "source": [
    "# Feed Particle Size Distribution in Training Set and Test Set\n",
    "\n",
    "plt.figure(figsize=(10, 6))\n",
    "training_data['rougher.input.feed_size'].plot( kind='hist',\n",
    "                                                title = 'Particle Feed Size',\n",
    "                                                ylabel = 'Frequency',\n",
    "                                                xlabel = 'Particle Size',\n",
    "                                                bins = 30,\n",
    "                                                alpha = 0.6,\n",
    "                                                density = True\n",
    "                                                 )\n",
    "test_data['rougher.input.feed_size'].plot( kind='hist',\n",
    "                                            bins = 30,\n",
    "                                            alpha = 0.4,\n",
    "                                            density = True\n",
    "                                            )\n",
    "plt.legend(['Training Data','Test Data'])\n",
    "plt.show()\n"
   ]
  },
  {
   "cell_type": "markdown",
   "metadata": {},
   "source": [
    "The particle feed size distribution seems very similar for the test and training set. There are however a lot of values greater than 100 that are not so easily seen on the above graph, so they are analyzed separately below."
   ]
  },
  {
   "cell_type": "code",
   "execution_count": 9,
   "metadata": {},
   "outputs": [
    {
     "data": {
      "image/png": "[encoded data removed]",
      "text/plain": [
       "<Figure size 1000x600 with 1 Axes>"
      ]
     },
     "metadata": {},
     "output_type": "display_data"
    }
   ],
   "source": [
    "# Check for values greater than 100 for different distributions as that's not so obvious in the above graph \n",
    "\n",
    "plt.figure(figsize=(10, 6))\n",
    "training_data['rougher.input.feed_size'][training_data['rougher.input.feed_size']>100].plot( kind='hist',\n",
    "                                                title = 'Particle Feed Size',\n",
    "                                                ylabel = 'Frequency',\n",
    "                                                xlabel = 'Particle Size',\n",
    "                                                bins = 30,\n",
    "                                                alpha = 0.6,\n",
    "                                                density = True\n",
    "                                                 )\n",
    "test_data['rougher.input.feed_size'][test_data['rougher.input.feed_size']>100].plot( kind='hist',\n",
    "                                            bins = 30,\n",
    "                                            alpha = 0.4,\n",
    "                                            density = True\n",
    "                                            )\n",
    "plt.legend(['Training Data','Test Data'])\n",
    "plt.show()\n"
   ]
  },
  {
   "cell_type": "markdown",
   "metadata": {},
   "source": [
    "### Remove Anomalies from Concentration data"
   ]
  },
  {
   "cell_type": "code",
   "execution_count": 11,
   "metadata": {},
   "outputs": [
    {
     "name": "stderr",
     "output_type": "stream",
     "text": [
      "/tmp/ipykernel_32/1514993167.py:3: SettingWithCopyWarning: \n",
      "A value is trying to be set on a copy of a slice from a DataFrame.\n",
      "Try using .loc[row_indexer,col_indexer] = value instead\n",
      "\n",
      "See the caveats in the documentation: https://pandas.pydata.org/pandas-docs/stable/user_guide/indexing.html#returning-a-view-versus-a-copy\n",
      "  training_data['total_concentration'] = training_data[['rougher.input.feed_au', 'rougher.input.feed_ag', 'rougher.input.feed_pb']].sum(axis=1)\n"
     ]
    },
    {
     "data": {
      "image/png": "[encoded data removed]",
      "text/plain": [
       "<Figure size 1000x600 with 1 Axes>"
      ]
     },
     "metadata": {},
     "output_type": "display_data"
    }
   ],
   "source": [
    "# Remove anomalies from concentration data\n",
    "\n",
    "training_data['total_concentration'] = training_data[['rougher.input.feed_au', 'rougher.input.feed_ag', 'rougher.input.feed_pb']].sum(axis=1)\n",
    "test_data['total_concentration'] = test_data[['rougher.input.feed_au', 'rougher.input.feed_ag', 'rougher.input.feed_pb']].sum(axis=1)\n",
    "\n",
    "plt.figure(figsize=(10, 6))\n",
    "plt.hist(training_data['total_concentration'], bins=50, alpha=0.5, label='Train', density = True)\n",
    "plt.hist(test_data['total_concentration'], bins=50, alpha=0.5, label='Test', density = True)\n",
    "plt.title('Total Metal Concentration Distribution')\n",
    "plt.xlabel('Total Concentration')\n",
    "plt.ylabel('Frequency')\n",
    "plt.legend()\n",
    "plt.show()\n"
   ]
  },
  {
   "cell_type": "markdown",
   "metadata": {},
   "source": [
    "There do not seem to be any anomalies or abnormal values when looking at the above figure. There is some data with 0 value as the concentration but that's not exactly abnormal. To make sure any anomalies are taken care of, values outside the 99 percentile are removed below."
   ]
  },
  {
   "cell_type": "code",
   "execution_count": 15,
   "metadata": {
    "scrolled": true
   },
   "outputs": [
    {
     "data": {
      "text/html": [
       "<div>\n",
       "<style scoped>\n",
       "    .dataframe tbody tr th:only-of-type {\n",
       "        vertical-align: middle;\n",
       "    }\n",
       "\n",
       "    .dataframe tbody tr th {\n",
       "        vertical-align: top;\n",
       "    }\n",
       "\n",
       "    .dataframe thead th {\n",
       "        text-align: right;\n",
       "    }\n",
       "</style>\n",
       "<table border=\"1\" class=\"dataframe\">\n",
       "  <thead>\n",
       "    <tr style=\"text-align: right;\">\n",
       "      <th></th>\n",
       "      <th>date</th>\n",
       "      <th>final.output.concentrate_ag</th>\n",
       "      <th>final.output.concentrate_pb</th>\n",
       "      <th>final.output.concentrate_sol</th>\n",
       "      <th>final.output.concentrate_au</th>\n",
       "      <th>final.output.recovery</th>\n",
       "      <th>final.output.tail_ag</th>\n",
       "      <th>final.output.tail_pb</th>\n",
       "      <th>final.output.tail_sol</th>\n",
       "      <th>final.output.tail_au</th>\n",
       "      <th>...</th>\n",
       "      <th>secondary_cleaner.state.floatbank4_b_air</th>\n",
       "      <th>secondary_cleaner.state.floatbank4_b_level</th>\n",
       "      <th>secondary_cleaner.state.floatbank5_a_air</th>\n",
       "      <th>secondary_cleaner.state.floatbank5_a_level</th>\n",
       "      <th>secondary_cleaner.state.floatbank5_b_air</th>\n",
       "      <th>secondary_cleaner.state.floatbank5_b_level</th>\n",
       "      <th>secondary_cleaner.state.floatbank6_a_air</th>\n",
       "      <th>secondary_cleaner.state.floatbank6_a_level</th>\n",
       "      <th>calculated_recovery</th>\n",
       "      <th>total_concentration</th>\n",
       "    </tr>\n",
       "  </thead>\n",
       "  <tbody>\n",
       "    <tr>\n",
       "      <th>0</th>\n",
       "      <td>2016-01-15 00:00:00</td>\n",
       "      <td>6.055403</td>\n",
       "      <td>9.889648</td>\n",
       "      <td>5.507324</td>\n",
       "      <td>42.192020</td>\n",
       "      <td>70.541216</td>\n",
       "      <td>10.411962</td>\n",
       "      <td>0.895447</td>\n",
       "      <td>16.904297</td>\n",
       "      <td>2.143149</td>\n",
       "      <td>...</td>\n",
       "      <td>12.099931</td>\n",
       "      <td>-504.715942</td>\n",
       "      <td>9.925633</td>\n",
       "      <td>-498.310211</td>\n",
       "      <td>8.079666</td>\n",
       "      <td>-500.470978</td>\n",
       "      <td>14.151341</td>\n",
       "      <td>-605.841980</td>\n",
       "      <td>87.107763</td>\n",
       "      <td>14.871440</td>\n",
       "    </tr>\n",
       "    <tr>\n",
       "      <th>1</th>\n",
       "      <td>2016-01-15 01:00:00</td>\n",
       "      <td>6.029369</td>\n",
       "      <td>9.968944</td>\n",
       "      <td>5.257781</td>\n",
       "      <td>42.701629</td>\n",
       "      <td>69.266198</td>\n",
       "      <td>10.462676</td>\n",
       "      <td>0.927452</td>\n",
       "      <td>16.634514</td>\n",
       "      <td>2.224930</td>\n",
       "      <td>...</td>\n",
       "      <td>11.950531</td>\n",
       "      <td>-501.331529</td>\n",
       "      <td>10.039245</td>\n",
       "      <td>-500.169983</td>\n",
       "      <td>7.984757</td>\n",
       "      <td>-500.582168</td>\n",
       "      <td>13.998353</td>\n",
       "      <td>-599.787184</td>\n",
       "      <td>86.843261</td>\n",
       "      <td>14.905729</td>\n",
       "    </tr>\n",
       "    <tr>\n",
       "      <th>2</th>\n",
       "      <td>2016-01-15 02:00:00</td>\n",
       "      <td>6.055926</td>\n",
       "      <td>10.213995</td>\n",
       "      <td>5.383759</td>\n",
       "      <td>42.657501</td>\n",
       "      <td>68.116445</td>\n",
       "      <td>10.507046</td>\n",
       "      <td>0.953716</td>\n",
       "      <td>16.208849</td>\n",
       "      <td>2.257889</td>\n",
       "      <td>...</td>\n",
       "      <td>11.912783</td>\n",
       "      <td>-501.133383</td>\n",
       "      <td>10.070913</td>\n",
       "      <td>-500.129135</td>\n",
       "      <td>8.013877</td>\n",
       "      <td>-500.517572</td>\n",
       "      <td>14.028663</td>\n",
       "      <td>-601.427363</td>\n",
       "      <td>86.842308</td>\n",
       "      <td>14.638299</td>\n",
       "    </tr>\n",
       "    <tr>\n",
       "      <th>3</th>\n",
       "      <td>2016-01-15 03:00:00</td>\n",
       "      <td>6.047977</td>\n",
       "      <td>9.977019</td>\n",
       "      <td>4.858634</td>\n",
       "      <td>42.689819</td>\n",
       "      <td>68.347543</td>\n",
       "      <td>10.422762</td>\n",
       "      <td>0.883763</td>\n",
       "      <td>16.532835</td>\n",
       "      <td>2.146849</td>\n",
       "      <td>...</td>\n",
       "      <td>11.999550</td>\n",
       "      <td>-501.193686</td>\n",
       "      <td>9.970366</td>\n",
       "      <td>-499.201640</td>\n",
       "      <td>7.977324</td>\n",
       "      <td>-500.255908</td>\n",
       "      <td>14.005551</td>\n",
       "      <td>-599.996129</td>\n",
       "      <td>87.226430</td>\n",
       "      <td>14.199305</td>\n",
       "    </tr>\n",
       "    <tr>\n",
       "      <th>4</th>\n",
       "      <td>2016-01-15 04:00:00</td>\n",
       "      <td>6.148599</td>\n",
       "      <td>10.142511</td>\n",
       "      <td>4.939416</td>\n",
       "      <td>42.774141</td>\n",
       "      <td>66.927016</td>\n",
       "      <td>10.360302</td>\n",
       "      <td>0.792826</td>\n",
       "      <td>16.525686</td>\n",
       "      <td>2.055292</td>\n",
       "      <td>...</td>\n",
       "      <td>11.953070</td>\n",
       "      <td>-501.053894</td>\n",
       "      <td>9.925709</td>\n",
       "      <td>-501.686727</td>\n",
       "      <td>7.894242</td>\n",
       "      <td>-500.356035</td>\n",
       "      <td>13.996647</td>\n",
       "      <td>-601.496691</td>\n",
       "      <td>86.688794</td>\n",
       "      <td>13.511497</td>\n",
       "    </tr>\n",
       "    <tr>\n",
       "      <th>...</th>\n",
       "      <td>...</td>\n",
       "      <td>...</td>\n",
       "      <td>...</td>\n",
       "      <td>...</td>\n",
       "      <td>...</td>\n",
       "      <td>...</td>\n",
       "      <td>...</td>\n",
       "      <td>...</td>\n",
       "      <td>...</td>\n",
       "      <td>...</td>\n",
       "      <td>...</td>\n",
       "      <td>...</td>\n",
       "      <td>...</td>\n",
       "      <td>...</td>\n",
       "      <td>...</td>\n",
       "      <td>...</td>\n",
       "      <td>...</td>\n",
       "      <td>...</td>\n",
       "      <td>...</td>\n",
       "      <td>...</td>\n",
       "      <td>...</td>\n",
       "    </tr>\n",
       "    <tr>\n",
       "      <th>16855</th>\n",
       "      <td>2018-08-18 06:59:59</td>\n",
       "      <td>3.224920</td>\n",
       "      <td>11.356233</td>\n",
       "      <td>6.803482</td>\n",
       "      <td>46.713954</td>\n",
       "      <td>73.755150</td>\n",
       "      <td>8.769645</td>\n",
       "      <td>3.141541</td>\n",
       "      <td>10.403181</td>\n",
       "      <td>1.529220</td>\n",
       "      <td>...</td>\n",
       "      <td>20.007571</td>\n",
       "      <td>-499.740028</td>\n",
       "      <td>18.006038</td>\n",
       "      <td>-499.834374</td>\n",
       "      <td>13.001114</td>\n",
       "      <td>-500.155694</td>\n",
       "      <td>20.007840</td>\n",
       "      <td>-501.296428</td>\n",
       "      <td>89.574376</td>\n",
       "      <td>16.045275</td>\n",
       "    </tr>\n",
       "    <tr>\n",
       "      <th>16856</th>\n",
       "      <td>2018-08-18 07:59:59</td>\n",
       "      <td>3.195978</td>\n",
       "      <td>11.349355</td>\n",
       "      <td>6.862249</td>\n",
       "      <td>46.866780</td>\n",
       "      <td>69.049291</td>\n",
       "      <td>8.897321</td>\n",
       "      <td>3.130493</td>\n",
       "      <td>10.549470</td>\n",
       "      <td>1.612542</td>\n",
       "      <td>...</td>\n",
       "      <td>20.035660</td>\n",
       "      <td>-500.251357</td>\n",
       "      <td>17.998535</td>\n",
       "      <td>-500.395178</td>\n",
       "      <td>12.954048</td>\n",
       "      <td>-499.895163</td>\n",
       "      <td>19.968498</td>\n",
       "      <td>-501.041608</td>\n",
       "      <td>87.724007</td>\n",
       "      <td>15.104931</td>\n",
       "    </tr>\n",
       "    <tr>\n",
       "      <th>16857</th>\n",
       "      <td>2018-08-18 08:59:59</td>\n",
       "      <td>3.109998</td>\n",
       "      <td>11.434366</td>\n",
       "      <td>6.886013</td>\n",
       "      <td>46.795691</td>\n",
       "      <td>67.002189</td>\n",
       "      <td>8.529606</td>\n",
       "      <td>2.911418</td>\n",
       "      <td>11.115147</td>\n",
       "      <td>1.596616</td>\n",
       "      <td>...</td>\n",
       "      <td>19.951231</td>\n",
       "      <td>-499.857027</td>\n",
       "      <td>18.019543</td>\n",
       "      <td>-500.451156</td>\n",
       "      <td>13.023431</td>\n",
       "      <td>-499.914391</td>\n",
       "      <td>19.990885</td>\n",
       "      <td>-501.518452</td>\n",
       "      <td>88.890579</td>\n",
       "      <td>14.515579</td>\n",
       "    </tr>\n",
       "    <tr>\n",
       "      <th>16858</th>\n",
       "      <td>2018-08-18 09:59:59</td>\n",
       "      <td>3.367241</td>\n",
       "      <td>11.625587</td>\n",
       "      <td>6.799433</td>\n",
       "      <td>46.408188</td>\n",
       "      <td>65.523246</td>\n",
       "      <td>8.777171</td>\n",
       "      <td>2.819214</td>\n",
       "      <td>10.463847</td>\n",
       "      <td>1.602879</td>\n",
       "      <td>...</td>\n",
       "      <td>20.054122</td>\n",
       "      <td>-500.314711</td>\n",
       "      <td>17.979515</td>\n",
       "      <td>-499.272871</td>\n",
       "      <td>12.992404</td>\n",
       "      <td>-499.976268</td>\n",
       "      <td>20.013986</td>\n",
       "      <td>-500.625471</td>\n",
       "      <td>89.858126</td>\n",
       "      <td>14.313448</td>\n",
       "    </tr>\n",
       "    <tr>\n",
       "      <th>16859</th>\n",
       "      <td>2018-08-18 10:59:59</td>\n",
       "      <td>3.598375</td>\n",
       "      <td>11.737832</td>\n",
       "      <td>6.717509</td>\n",
       "      <td>46.299438</td>\n",
       "      <td>70.281454</td>\n",
       "      <td>8.406690</td>\n",
       "      <td>2.517518</td>\n",
       "      <td>10.652193</td>\n",
       "      <td>1.389434</td>\n",
       "      <td>...</td>\n",
       "      <td>20.020205</td>\n",
       "      <td>-500.220296</td>\n",
       "      <td>17.963512</td>\n",
       "      <td>-499.939490</td>\n",
       "      <td>12.990306</td>\n",
       "      <td>-500.080993</td>\n",
       "      <td>19.990336</td>\n",
       "      <td>-499.191575</td>\n",
       "      <td>89.514960</td>\n",
       "      <td>14.399936</td>\n",
       "    </tr>\n",
       "  </tbody>\n",
       "</table>\n",
       "<p>10906 rows × 89 columns</p>\n",
       "</div>"
      ],
      "text/plain": [
       "                      date  final.output.concentrate_ag  \\\n",
       "0      2016-01-15 00:00:00                     6.055403   \n",
       "1      2016-01-15 01:00:00                     6.029369   \n",
       "2      2016-01-15 02:00:00                     6.055926   \n",
       "3      2016-01-15 03:00:00                     6.047977   \n",
       "4      2016-01-15 04:00:00                     6.148599   \n",
       "...                    ...                          ...   \n",
       "16855  2018-08-18 06:59:59                     3.224920   \n",
       "16856  2018-08-18 07:59:59                     3.195978   \n",
       "16857  2018-08-18 08:59:59                     3.109998   \n",
       "16858  2018-08-18 09:59:59                     3.367241   \n",
       "16859  2018-08-18 10:59:59                     3.598375   \n",
       "\n",
       "       final.output.concentrate_pb  final.output.concentrate_sol  \\\n",
       "0                         9.889648                      5.507324   \n",
       "1                         9.968944                      5.257781   \n",
       "2                        10.213995                      5.383759   \n",
       "3                         9.977019                      4.858634   \n",
       "4                        10.142511                      4.939416   \n",
       "...                            ...                           ...   \n",
       "16855                    11.356233                      6.803482   \n",
       "16856                    11.349355                      6.862249   \n",
       "16857                    11.434366                      6.886013   \n",
       "16858                    11.625587                      6.799433   \n",
       "16859                    11.737832                      6.717509   \n",
       "\n",
       "       final.output.concentrate_au  final.output.recovery  \\\n",
       "0                        42.192020              70.541216   \n",
       "1                        42.701629              69.266198   \n",
       "2                        42.657501              68.116445   \n",
       "3                        42.689819              68.347543   \n",
       "4                        42.774141              66.927016   \n",
       "...                            ...                    ...   \n",
       "16855                    46.713954              73.755150   \n",
       "16856                    46.866780              69.049291   \n",
       "16857                    46.795691              67.002189   \n",
       "16858                    46.408188              65.523246   \n",
       "16859                    46.299438              70.281454   \n",
       "\n",
       "       final.output.tail_ag  final.output.tail_pb  final.output.tail_sol  \\\n",
       "0                 10.411962              0.895447              16.904297   \n",
       "1                 10.462676              0.927452              16.634514   \n",
       "2                 10.507046              0.953716              16.208849   \n",
       "3                 10.422762              0.883763              16.532835   \n",
       "4                 10.360302              0.792826              16.525686   \n",
       "...                     ...                   ...                    ...   \n",
       "16855              8.769645              3.141541              10.403181   \n",
       "16856              8.897321              3.130493              10.549470   \n",
       "16857              8.529606              2.911418              11.115147   \n",
       "16858              8.777171              2.819214              10.463847   \n",
       "16859              8.406690              2.517518              10.652193   \n",
       "\n",
       "       final.output.tail_au  ...  secondary_cleaner.state.floatbank4_b_air  \\\n",
       "0                  2.143149  ...                                 12.099931   \n",
       "1                  2.224930  ...                                 11.950531   \n",
       "2                  2.257889  ...                                 11.912783   \n",
       "3                  2.146849  ...                                 11.999550   \n",
       "4                  2.055292  ...                                 11.953070   \n",
       "...                     ...  ...                                       ...   \n",
       "16855              1.529220  ...                                 20.007571   \n",
       "16856              1.612542  ...                                 20.035660   \n",
       "16857              1.596616  ...                                 19.951231   \n",
       "16858              1.602879  ...                                 20.054122   \n",
       "16859              1.389434  ...                                 20.020205   \n",
       "\n",
       "       secondary_cleaner.state.floatbank4_b_level  \\\n",
       "0                                     -504.715942   \n",
       "1                                     -501.331529   \n",
       "2                                     -501.133383   \n",
       "3                                     -501.193686   \n",
       "4                                     -501.053894   \n",
       "...                                           ...   \n",
       "16855                                 -499.740028   \n",
       "16856                                 -500.251357   \n",
       "16857                                 -499.857027   \n",
       "16858                                 -500.314711   \n",
       "16859                                 -500.220296   \n",
       "\n",
       "       secondary_cleaner.state.floatbank5_a_air  \\\n",
       "0                                      9.925633   \n",
       "1                                     10.039245   \n",
       "2                                     10.070913   \n",
       "3                                      9.970366   \n",
       "4                                      9.925709   \n",
       "...                                         ...   \n",
       "16855                                 18.006038   \n",
       "16856                                 17.998535   \n",
       "16857                                 18.019543   \n",
       "16858                                 17.979515   \n",
       "16859                                 17.963512   \n",
       "\n",
       "       secondary_cleaner.state.floatbank5_a_level  \\\n",
       "0                                     -498.310211   \n",
       "1                                     -500.169983   \n",
       "2                                     -500.129135   \n",
       "3                                     -499.201640   \n",
       "4                                     -501.686727   \n",
       "...                                           ...   \n",
       "16855                                 -499.834374   \n",
       "16856                                 -500.395178   \n",
       "16857                                 -500.451156   \n",
       "16858                                 -499.272871   \n",
       "16859                                 -499.939490   \n",
       "\n",
       "       secondary_cleaner.state.floatbank5_b_air  \\\n",
       "0                                      8.079666   \n",
       "1                                      7.984757   \n",
       "2                                      8.013877   \n",
       "3                                      7.977324   \n",
       "4                                      7.894242   \n",
       "...                                         ...   \n",
       "16855                                 13.001114   \n",
       "16856                                 12.954048   \n",
       "16857                                 13.023431   \n",
       "16858                                 12.992404   \n",
       "16859                                 12.990306   \n",
       "\n",
       "       secondary_cleaner.state.floatbank5_b_level  \\\n",
       "0                                     -500.470978   \n",
       "1                                     -500.582168   \n",
       "2                                     -500.517572   \n",
       "3                                     -500.255908   \n",
       "4                                     -500.356035   \n",
       "...                                           ...   \n",
       "16855                                 -500.155694   \n",
       "16856                                 -499.895163   \n",
       "16857                                 -499.914391   \n",
       "16858                                 -499.976268   \n",
       "16859                                 -500.080993   \n",
       "\n",
       "       secondary_cleaner.state.floatbank6_a_air  \\\n",
       "0                                     14.151341   \n",
       "1                                     13.998353   \n",
       "2                                     14.028663   \n",
       "3                                     14.005551   \n",
       "4                                     13.996647   \n",
       "...                                         ...   \n",
       "16855                                 20.007840   \n",
       "16856                                 19.968498   \n",
       "16857                                 19.990885   \n",
       "16858                                 20.013986   \n",
       "16859                                 19.990336   \n",
       "\n",
       "       secondary_cleaner.state.floatbank6_a_level  calculated_recovery  \\\n",
       "0                                     -605.841980            87.107763   \n",
       "1                                     -599.787184            86.843261   \n",
       "2                                     -601.427363            86.842308   \n",
       "3                                     -599.996129            87.226430   \n",
       "4                                     -601.496691            86.688794   \n",
       "...                                           ...                  ...   \n",
       "16855                                 -501.296428            89.574376   \n",
       "16856                                 -501.041608            87.724007   \n",
       "16857                                 -501.518452            88.890579   \n",
       "16858                                 -500.625471            89.858126   \n",
       "16859                                 -499.191575            89.514960   \n",
       "\n",
       "       total_concentration  \n",
       "0                14.871440  \n",
       "1                14.905729  \n",
       "2                14.638299  \n",
       "3                14.199305  \n",
       "4                13.511497  \n",
       "...                    ...  \n",
       "16855            16.045275  \n",
       "16856            15.104931  \n",
       "16857            14.515579  \n",
       "16858            14.313448  \n",
       "16859            14.399936  \n",
       "\n",
       "[10906 rows x 89 columns]"
      ]
     },
     "execution_count": 15,
     "metadata": {},
     "output_type": "execute_result"
    }
   ],
   "source": [
    "# Removing anomalies outside the 99 percentile threshold \n",
    "threshold = training_data['total_concentration'].quantile(0.99) \n",
    "\n",
    "training_data_cleaned = training_data[training_data['total_concentration'] < threshold]\n",
    "test_data_cleaned = test_data[test_data['total_concentration'] < threshold]\n",
    "training_data_cleaned.sample(10)"
   ]
  },
  {
   "cell_type": "markdown",
   "metadata": {},
   "source": [
    "## Model"
   ]
  },
  {
   "cell_type": "code",
   "execution_count": 16,
   "metadata": {},
   "outputs": [],
   "source": [
    "# Function to calculate the final sMAPE value\n",
    "\n",
    "def smape(y_true, y_pred):\n",
    "    denominator = (np.abs(y_true) + np.abs(y_pred)) / 2\n",
    "    smape_value = np.mean(np.abs(y_true - y_pred) / denominator) * 100\n",
    "    return smape_value\n",
    "\n",
    "def final_smape(y_true_rougher, y_pred_rougher, y_true_final, y_pred_final):\n",
    "    smape_rougher = smape(y_true_rougher, y_pred_rougher)\n",
    "    print(f\"Rougher sMAPE: {smape_rougher}\")\n",
    "    \n",
    "    smape_final = smape(y_true_final, y_pred_final)\n",
    "    print(f\"Final sMAPE: {smape_final}\")\n",
    "    \n",
    "    final_smape_value = 0.25 * smape_rougher + 0.75 * smape_final\n",
    "    print(f\"Final sMAPE Value: {final_smape_value}\")\n",
    "    return final_smape_value\n",
    "\n"
   ]
  },
  {
   "cell_type": "code",
   "execution_count": 17,
   "metadata": {},
   "outputs": [],
   "source": [
    "# Get the features for training data\n",
    "features = test_data_cleaned.columns.values\n",
    "training_features = training_data_cleaned[features]\n",
    "training_features = training_features.drop(['date', 'total_concentration'], axis=1)\n",
    "\n",
    "# Get the target for training data\n",
    "target_rougher = training_data_cleaned['rougher.output.recovery']\n",
    "target_final = training_data_cleaned['final.output.recovery']"
   ]
  },
  {
   "cell_type": "code",
   "execution_count": null,
   "metadata": {},
   "outputs": [],
   "source": [
    "# Train different models. Evaluate them using cross-validation. \n",
    "\n",
    "models = {\n",
    "    'RandomForest': RandomForestRegressor(random_state=12345),\n",
    "    'LinearRegression': LinearRegression(),\n",
    "    'DecisionTree': DecisionTreeRegressor(random_state=12345)\n",
    "}\n",
    "\n",
    "for name, model in models.items():\n",
    "    scores = cross_val_score(model, training_features, target_final, cv=5, scoring='neg_mean_absolute_error')\n",
    "    print(f\"{name}: Mean Absolute Error = {-scores.mean()}\")\n",
    "\n"
   ]
  },
  {
   "cell_type": "markdown",
   "metadata": {},
   "source": [
    "From the above we can see that Linear Regression is the best model as it gives the lowest mean absolute error for the final output."
   ]
  },
  {
   "cell_type": "code",
   "execution_count": null,
   "metadata": {},
   "outputs": [],
   "source": [
    "# Pick the best model and test it using the test sample\n",
    "\n",
    "# Fit model for rougher output recovery\n",
    "model_rougher = LinearRegression()\n",
    "model_rougher.fit(training_features, target_rougher)\n",
    "y_pred_rougher = model_rougher.predict(training_features)\n",
    "\n",
    "# Fit model for final output recovery\n",
    "model_final = LinearRegression()\n",
    "model_final.fit(training_features, target_final)\n",
    "y_pred_final = model_final.predict(training_features)\n",
    "\n",
    "print('sMAPE values using Training Set:')\n",
    "smape_value = final_smape(target_rougher, y_pred_rougher, target_final, y_pred_final)\n",
    "\n"
   ]
  },
  {
   "cell_type": "code",
   "execution_count": null,
   "metadata": {},
   "outputs": [],
   "source": [
    "# Need the rougher.output.recovery and final.output.recovery from the full set in the test set to get the sMAPE values\n",
    "\n",
    "test_with_y_true = test_data_cleaned.merge(full_data[['date','rougher.output.recovery','final.output.recovery']], on='date', how='left')\n",
    "\n",
    "\n",
    "# Check for any missing values of the recovery output values, then drop the data with missing values\n",
    "\n",
    "print(test_with_y_true.isna().sum())\n",
    "test_with_y_true = test_with_y_true.dropna()\n"
   ]
  },
  {
   "cell_type": "code",
   "execution_count": null,
   "metadata": {},
   "outputs": [],
   "source": [
    "# Test using the test sample\n",
    "\n",
    "test_features = test_with_y_true.drop(['date', 'total_concentration', 'rougher.output.recovery', 'final.output.recovery'], axis=1)\n",
    "\n",
    "target_rougher_test = test_with_y_true['rougher.output.recovery']\n",
    "target_final_test = test_with_y_true['final.output.recovery']\n",
    "\n",
    "y_pred_test_rougher = model_rougher.predict(test_features)\n",
    "y_pred_test_final = model_final.predict(test_features)\n",
    "\n",
    "print('sMAPE values using Test Set:')\n",
    "smape_value = final_smape(target_rougher_test, y_pred_test_rougher, target_final_test, y_pred_test_final)\n",
    "\n"
   ]
  },
  {
   "cell_type": "markdown",
   "metadata": {},
   "source": [
    "## Conclusion\n"
   ]
  },
  {
   "cell_type": "markdown",
   "metadata": {},
   "source": [
    "The test set of this dataset was missing some features that were present in the training set. Upon assessing it was noticed that these features missing were related to Silver (Ag) and Lead (Pb), so it didn't effect the prediction of gold mining. Therefore, these features were not used when training the model so the test set can be used by the model later.\n",
    "\n",
    "The three models that were trained were Random Forest, Linear Regression, and Decision Tree Regressor. Linear Regression model was chosen as it had the lowest mean absolute error between the three models. The final sMAPE value with the chosen model was 7.744 for the training set, and 9.151 for the test set, showing it worked similarly on both."
   ]
  }
 ],
 "metadata": {
  "ExecuteTimeLog": [
   {
    "duration": 2780,
    "start_time": "2024-11-25T20:21:09.824Z"
   },
   {
    "duration": 3,
    "start_time": "2024-11-25T20:23:27.572Z"
   },
   {
    "duration": 721,
    "start_time": "2024-11-25T20:23:27.964Z"
   },
   {
    "duration": 49,
    "start_time": "2024-11-25T20:23:57.112Z"
   },
   {
    "duration": 58,
    "start_time": "2024-11-25T20:23:59.522Z"
   },
   {
    "duration": 26,
    "start_time": "2024-11-25T20:24:32.439Z"
   },
   {
    "duration": 20,
    "start_time": "2024-11-25T20:24:51.662Z"
   },
   {
    "duration": 18,
    "start_time": "2024-11-25T22:03:34.937Z"
   },
   {
    "duration": 33,
    "start_time": "2024-11-25T22:04:00.513Z"
   },
   {
    "duration": 256,
    "start_time": "2024-12-03T20:56:46.389Z"
   },
   {
    "duration": 3521,
    "start_time": "2024-12-03T20:56:53.165Z"
   },
   {
    "duration": 882,
    "start_time": "2024-12-03T20:56:56.689Z"
   },
   {
    "duration": 71,
    "start_time": "2024-12-03T20:56:57.581Z"
   },
   {
    "duration": 104,
    "start_time": "2024-12-03T20:56:57.664Z"
   },
   {
    "duration": 3,
    "start_time": "2024-12-03T20:57:37.986Z"
   },
   {
    "duration": 591,
    "start_time": "2024-12-03T20:57:38.429Z"
   },
   {
    "duration": 36,
    "start_time": "2024-12-03T20:57:39.022Z"
   },
   {
    "duration": 143,
    "start_time": "2024-12-03T20:57:39.166Z"
   },
   {
    "duration": 12,
    "start_time": "2024-12-03T20:58:53.605Z"
   },
   {
    "duration": 8,
    "start_time": "2024-12-03T21:00:07.438Z"
   },
   {
    "duration": 28,
    "start_time": "2024-12-03T21:01:58.541Z"
   },
   {
    "duration": 4,
    "start_time": "2024-12-03T21:02:36.568Z"
   },
   {
    "duration": 792,
    "start_time": "2024-12-03T21:02:37.314Z"
   },
   {
    "duration": 32,
    "start_time": "2024-12-03T21:02:38.782Z"
   },
   {
    "duration": 8,
    "start_time": "2024-12-03T21:02:42.761Z"
   },
   {
    "duration": 27,
    "start_time": "2024-12-03T21:02:59.147Z"
   },
   {
    "duration": 8,
    "start_time": "2024-12-03T21:03:00.265Z"
   },
   {
    "duration": 7,
    "start_time": "2024-12-03T21:10:08.577Z"
   },
   {
    "duration": 6,
    "start_time": "2024-12-03T21:10:10.384Z"
   },
   {
    "duration": 11,
    "start_time": "2024-12-03T21:16:41.218Z"
   },
   {
    "duration": 3,
    "start_time": "2024-12-03T21:19:02.845Z"
   },
   {
    "duration": 3045,
    "start_time": "2024-12-04T20:04:39.022Z"
   },
   {
    "duration": 646,
    "start_time": "2024-12-04T20:04:42.069Z"
   },
   {
    "duration": 37,
    "start_time": "2024-12-04T20:04:42.717Z"
   },
   {
    "duration": 8,
    "start_time": "2024-12-04T20:04:42.757Z"
   },
   {
    "duration": 9,
    "start_time": "2024-12-04T20:04:42.766Z"
   },
   {
    "duration": 461,
    "start_time": "2024-12-04T20:04:42.777Z"
   },
   {
    "duration": 0,
    "start_time": "2024-12-04T20:04:43.240Z"
   },
   {
    "duration": 0,
    "start_time": "2024-12-04T20:04:43.242Z"
   },
   {
    "duration": 3,
    "start_time": "2024-12-04T20:04:51.654Z"
   },
   {
    "duration": 505,
    "start_time": "2024-12-04T20:04:52.091Z"
   },
   {
    "duration": 32,
    "start_time": "2024-12-04T20:04:52.923Z"
   },
   {
    "duration": 7,
    "start_time": "2024-12-04T20:04:53.752Z"
   },
   {
    "duration": 9,
    "start_time": "2024-12-04T20:04:56.409Z"
   },
   {
    "duration": 62,
    "start_time": "2024-12-04T20:04:57.329Z"
   },
   {
    "duration": 11,
    "start_time": "2024-12-04T20:05:00.395Z"
   },
   {
    "duration": 14,
    "start_time": "2024-12-04T20:05:44.611Z"
   },
   {
    "duration": 7,
    "start_time": "2024-12-04T20:05:45.187Z"
   },
   {
    "duration": 10,
    "start_time": "2024-12-04T20:05:46.066Z"
   },
   {
    "duration": 2681,
    "start_time": "2024-12-04T21:23:25.366Z"
   },
   {
    "duration": 624,
    "start_time": "2024-12-04T21:23:28.049Z"
   },
   {
    "duration": 32,
    "start_time": "2024-12-04T21:23:28.674Z"
   },
   {
    "duration": 7,
    "start_time": "2024-12-04T21:23:29.723Z"
   },
   {
    "duration": 9,
    "start_time": "2024-12-04T21:23:31.700Z"
   },
   {
    "duration": 6,
    "start_time": "2024-12-04T21:23:32.846Z"
   },
   {
    "duration": 11,
    "start_time": "2024-12-04T21:23:34.262Z"
   },
   {
    "duration": 4,
    "start_time": "2024-12-04T21:23:50.987Z"
   },
   {
    "duration": 6,
    "start_time": "2024-12-04T21:34:18.584Z"
   },
   {
    "duration": 412,
    "start_time": "2024-12-04T21:34:27.696Z"
   },
   {
    "duration": 313,
    "start_time": "2024-12-04T21:35:51.969Z"
   },
   {
    "duration": 315,
    "start_time": "2024-12-04T21:36:25.643Z"
   },
   {
    "duration": 4,
    "start_time": "2024-12-04T21:37:20.657Z"
   },
   {
    "duration": 176,
    "start_time": "2024-12-04T21:37:25.035Z"
   },
   {
    "duration": 6,
    "start_time": "2024-12-04T21:42:13.608Z"
   },
   {
    "duration": 310,
    "start_time": "2024-12-04T21:42:26.500Z"
   },
   {
    "duration": 276,
    "start_time": "2024-12-04T21:43:08.124Z"
   },
   {
    "duration": 233,
    "start_time": "2024-12-04T21:43:28.407Z"
   },
   {
    "duration": 223,
    "start_time": "2024-12-04T21:53:56.057Z"
   },
   {
    "duration": 233,
    "start_time": "2024-12-04T21:53:56.656Z"
   },
   {
    "duration": 444,
    "start_time": "2024-12-04T21:53:56.970Z"
   },
   {
    "duration": 230,
    "start_time": "2024-12-04T21:54:01.723Z"
   },
   {
    "duration": 198,
    "start_time": "2024-12-04T21:57:16.534Z"
   },
   {
    "duration": 188,
    "start_time": "2024-12-04T21:58:56.872Z"
   },
   {
    "duration": 5,
    "start_time": "2024-12-04T22:15:13.916Z"
   },
   {
    "duration": 2755,
    "start_time": "2024-12-05T22:36:26.232Z"
   },
   {
    "duration": 629,
    "start_time": "2024-12-05T22:36:28.990Z"
   },
   {
    "duration": 34,
    "start_time": "2024-12-05T22:36:29.620Z"
   },
   {
    "duration": 5,
    "start_time": "2024-12-05T22:36:29.656Z"
   },
   {
    "duration": 9,
    "start_time": "2024-12-05T22:36:30.762Z"
   },
   {
    "duration": 9,
    "start_time": "2024-12-05T22:36:32.179Z"
   },
   {
    "duration": 4,
    "start_time": "2024-12-05T22:36:33.191Z"
   },
   {
    "duration": 240,
    "start_time": "2024-12-05T22:36:35.780Z"
   },
   {
    "duration": 234,
    "start_time": "2024-12-05T22:36:37.092Z"
   },
   {
    "duration": 301,
    "start_time": "2024-12-05T22:36:40.395Z"
   },
   {
    "duration": 201,
    "start_time": "2024-12-05T22:36:44.447Z"
   },
   {
    "duration": 3,
    "start_time": "2024-12-05T22:36:45.822Z"
   },
   {
    "duration": 2,
    "start_time": "2024-12-05T22:36:48.373Z"
   },
   {
    "duration": 6,
    "start_time": "2024-12-05T22:42:04.971Z"
   },
   {
    "duration": 4,
    "start_time": "2024-12-05T22:42:19.169Z"
   },
   {
    "duration": 222,
    "start_time": "2024-12-05T22:49:40.267Z"
   },
   {
    "duration": 86,
    "start_time": "2024-12-05T22:49:49.501Z"
   },
   {
    "duration": 80,
    "start_time": "2024-12-05T22:49:52.506Z"
   },
   {
    "duration": 2679,
    "start_time": "2024-12-09T18:11:27.227Z"
   },
   {
    "duration": 638,
    "start_time": "2024-12-09T18:11:29.908Z"
   },
   {
    "duration": 35,
    "start_time": "2024-12-09T18:11:30.548Z"
   },
   {
    "duration": 5,
    "start_time": "2024-12-09T18:11:30.585Z"
   },
   {
    "duration": 8,
    "start_time": "2024-12-09T18:11:42.847Z"
   },
   {
    "duration": 117,
    "start_time": "2024-12-09T18:12:35.877Z"
   },
   {
    "duration": 91,
    "start_time": "2024-12-09T18:12:42.813Z"
   },
   {
    "duration": 337,
    "start_time": "2024-12-09T18:12:48.359Z"
   },
   {
    "duration": 103,
    "start_time": "2024-12-09T18:13:13.791Z"
   },
   {
    "duration": 2,
    "start_time": "2024-12-09T18:13:14.358Z"
   },
   {
    "duration": 56,
    "start_time": "2024-12-09T18:13:14.962Z"
   },
   {
    "duration": 8,
    "start_time": "2024-12-09T18:13:23.536Z"
   },
   {
    "duration": 112,
    "start_time": "2024-12-09T18:13:24.270Z"
   },
   {
    "duration": 11,
    "start_time": "2024-12-09T18:14:07.402Z"
   },
   {
    "duration": 8,
    "start_time": "2024-12-09T18:14:08.005Z"
   },
   {
    "duration": 61,
    "start_time": "2024-12-09T18:14:09.034Z"
   },
   {
    "duration": 5,
    "start_time": "2024-12-09T18:14:26.971Z"
   },
   {
    "duration": 80,
    "start_time": "2024-12-09T18:14:42.080Z"
   },
   {
    "duration": 242,
    "start_time": "2024-12-09T18:14:53.004Z"
   },
   {
    "duration": 229,
    "start_time": "2024-12-09T18:14:54.187Z"
   },
   {
    "duration": 244,
    "start_time": "2024-12-09T18:14:54.888Z"
   },
   {
    "duration": 195,
    "start_time": "2024-12-09T18:14:56.388Z"
   },
   {
    "duration": 737,
    "start_time": "2024-12-09T18:18:29.302Z"
   },
   {
    "duration": 17,
    "start_time": "2024-12-09T18:19:29.192Z"
   },
   {
    "duration": 197,
    "start_time": "2024-12-09T18:19:50.420Z"
   },
   {
    "duration": 37,
    "start_time": "2024-12-09T18:43:51.582Z"
   },
   {
    "duration": 39,
    "start_time": "2024-12-09T18:44:14.243Z"
   },
   {
    "duration": 38,
    "start_time": "2024-12-09T18:44:37.465Z"
   },
   {
    "duration": 68,
    "start_time": "2024-12-09T18:44:54.262Z"
   },
   {
    "duration": 11,
    "start_time": "2024-12-09T18:49:23.011Z"
   },
   {
    "duration": 2,
    "start_time": "2024-12-09T18:49:23.498Z"
   },
   {
    "duration": 57,
    "start_time": "2024-12-09T18:49:24.704Z"
   },
   {
    "duration": 5,
    "start_time": "2024-12-09T18:52:06.383Z"
   },
   {
    "duration": 4,
    "start_time": "2024-12-09T18:53:04.712Z"
   },
   {
    "duration": 15,
    "start_time": "2024-12-09T18:53:24.766Z"
   },
   {
    "duration": 5,
    "start_time": "2024-12-09T18:56:08.067Z"
   },
   {
    "duration": 56,
    "start_time": "2024-12-09T18:56:10.317Z"
   },
   {
    "duration": 5,
    "start_time": "2024-12-09T18:56:20.928Z"
   },
   {
    "duration": 55,
    "start_time": "2024-12-09T18:56:21.429Z"
   },
   {
    "duration": 3,
    "start_time": "2024-12-09T18:56:43.686Z"
   },
   {
    "duration": 524,
    "start_time": "2024-12-09T18:56:44.235Z"
   },
   {
    "duration": 29,
    "start_time": "2024-12-09T18:56:44.898Z"
   },
   {
    "duration": 8,
    "start_time": "2024-12-09T18:56:45.548Z"
   },
   {
    "duration": 14,
    "start_time": "2024-12-09T18:56:46.421Z"
   },
   {
    "duration": 5,
    "start_time": "2024-12-09T18:56:49.528Z"
   },
   {
    "duration": 4,
    "start_time": "2024-12-09T18:56:50.386Z"
   },
   {
    "duration": 5,
    "start_time": "2024-12-09T18:56:51.943Z"
   },
   {
    "duration": 70,
    "start_time": "2024-12-09T18:56:53.577Z"
   },
   {
    "duration": 2,
    "start_time": "2024-12-09T18:58:13.984Z"
   },
   {
    "duration": 6,
    "start_time": "2024-12-09T18:58:14.544Z"
   },
   {
    "duration": 5,
    "start_time": "2024-12-09T18:58:40.506Z"
   },
   {
    "duration": 6,
    "start_time": "2024-12-09T18:59:00.327Z"
   },
   {
    "duration": 67,
    "start_time": "2024-12-09T18:59:22.020Z"
   },
   {
    "duration": 77,
    "start_time": "2024-12-09T19:03:20.649Z"
   },
   {
    "duration": 71,
    "start_time": "2024-12-09T19:03:37.400Z"
   },
   {
    "duration": 66,
    "start_time": "2024-12-09T19:05:23.981Z"
   },
   {
    "duration": 84,
    "start_time": "2024-12-09T19:06:24.727Z"
   },
   {
    "duration": 73,
    "start_time": "2024-12-09T19:10:16.555Z"
   },
   {
    "duration": 68,
    "start_time": "2024-12-09T19:11:07.686Z"
   },
   {
    "duration": 7760,
    "start_time": "2024-12-09T19:12:21.812Z"
   },
   {
    "duration": 203,
    "start_time": "2024-12-09T19:12:56.443Z"
   },
   {
    "duration": 13,
    "start_time": "2024-12-09T19:15:47.516Z"
   },
   {
    "duration": 448,
    "start_time": "2024-12-09T19:15:47.746Z"
   },
   {
    "duration": 30,
    "start_time": "2024-12-09T19:15:48.196Z"
   },
   {
    "duration": 16,
    "start_time": "2024-12-09T19:15:48.228Z"
   },
   {
    "duration": 13,
    "start_time": "2024-12-09T19:15:48.432Z"
   },
   {
    "duration": 2,
    "start_time": "2024-12-09T19:15:48.750Z"
   },
   {
    "duration": 7,
    "start_time": "2024-12-09T19:15:50.100Z"
   },
   {
    "duration": 5,
    "start_time": "2024-12-09T19:15:50.877Z"
   },
   {
    "duration": 68,
    "start_time": "2024-12-09T19:15:53.257Z"
   },
   {
    "duration": 222,
    "start_time": "2024-12-09T19:15:55.544Z"
   },
   {
    "duration": 237,
    "start_time": "2024-12-09T19:15:55.858Z"
   },
   {
    "duration": 239,
    "start_time": "2024-12-09T19:15:56.273Z"
   },
   {
    "duration": 181,
    "start_time": "2024-12-09T19:15:57.814Z"
   },
   {
    "duration": 197,
    "start_time": "2024-12-09T19:15:58.627Z"
   },
   {
    "duration": 17,
    "start_time": "2024-12-09T19:19:43.930Z"
   },
   {
    "duration": 32,
    "start_time": "2024-12-09T19:20:30.918Z"
   },
   {
    "duration": 505,
    "start_time": "2024-12-09T19:20:31.284Z"
   },
   {
    "duration": 30,
    "start_time": "2024-12-09T19:20:31.791Z"
   },
   {
    "duration": 8,
    "start_time": "2024-12-09T19:20:31.846Z"
   },
   {
    "duration": 14,
    "start_time": "2024-12-09T19:20:32.105Z"
   },
   {
    "duration": 2,
    "start_time": "2024-12-09T19:20:32.331Z"
   },
   {
    "duration": 7,
    "start_time": "2024-12-09T19:20:32.566Z"
   },
   {
    "duration": 6,
    "start_time": "2024-12-09T19:20:33.199Z"
   },
   {
    "duration": 74,
    "start_time": "2024-12-09T19:20:33.934Z"
   },
   {
    "duration": 272,
    "start_time": "2024-12-09T19:20:36.231Z"
   },
   {
    "duration": 257,
    "start_time": "2024-12-09T19:20:36.570Z"
   },
   {
    "duration": 253,
    "start_time": "2024-12-09T19:20:36.829Z"
   },
   {
    "duration": 184,
    "start_time": "2024-12-09T19:20:37.426Z"
   },
   {
    "duration": 203,
    "start_time": "2024-12-09T19:20:37.613Z"
   },
   {
    "duration": 2,
    "start_time": "2024-12-09T19:20:37.967Z"
   },
   {
    "duration": 5,
    "start_time": "2024-12-09T19:20:38.346Z"
   },
   {
    "duration": 114329,
    "start_time": "2024-12-09T19:20:38.516Z"
   },
   {
    "duration": 5,
    "start_time": "2024-12-09T19:23:41.146Z"
   },
   {
    "duration": 115347,
    "start_time": "2024-12-09T19:23:42.056Z"
   },
   {
    "duration": 2995,
    "start_time": "2024-12-09T21:23:37.653Z"
   },
   {
    "duration": 658,
    "start_time": "2024-12-09T21:23:40.651Z"
   },
   {
    "duration": 44,
    "start_time": "2024-12-09T21:23:41.311Z"
   },
   {
    "duration": 10,
    "start_time": "2024-12-09T21:23:41.357Z"
   },
   {
    "duration": 17,
    "start_time": "2024-12-09T21:23:41.388Z"
   },
   {
    "duration": 3,
    "start_time": "2024-12-09T21:23:41.408Z"
   },
   {
    "duration": 12,
    "start_time": "2024-12-09T21:23:41.414Z"
   },
   {
    "duration": 7,
    "start_time": "2024-12-09T21:23:41.428Z"
   },
   {
    "duration": 384,
    "start_time": "2024-12-09T21:23:41.438Z"
   },
   {
    "duration": 141,
    "start_time": "2024-12-09T21:24:08.520Z"
   },
   {
    "duration": 47,
    "start_time": "2024-12-09T21:24:34.315Z"
   },
   {
    "duration": 19,
    "start_time": "2024-12-09T21:24:45.878Z"
   },
   {
    "duration": 8,
    "start_time": "2024-12-09T21:24:53.099Z"
   },
   {
    "duration": 545,
    "start_time": "2024-12-09T21:24:53.547Z"
   },
   {
    "duration": 32,
    "start_time": "2024-12-09T21:24:54.094Z"
   },
   {
    "duration": 12,
    "start_time": "2024-12-09T21:24:54.192Z"
   },
   {
    "duration": 14,
    "start_time": "2024-12-09T21:24:54.544Z"
   },
   {
    "duration": 2,
    "start_time": "2024-12-09T21:24:55.390Z"
   },
   {
    "duration": 7,
    "start_time": "2024-12-09T21:24:56.548Z"
   },
   {
    "duration": 5,
    "start_time": "2024-12-09T21:24:57.743Z"
   },
   {
    "duration": 23,
    "start_time": "2024-12-09T21:24:58.674Z"
   },
   {
    "duration": 20,
    "start_time": "2024-12-09T21:25:30.237Z"
   },
   {
    "duration": 16,
    "start_time": "2024-12-09T21:25:34.810Z"
   },
   {
    "duration": 261,
    "start_time": "2024-12-09T21:25:36.212Z"
   },
   {
    "duration": 261,
    "start_time": "2024-12-09T21:25:36.496Z"
   },
   {
    "duration": 290,
    "start_time": "2024-12-09T21:25:36.986Z"
   },
   {
    "duration": 293,
    "start_time": "2024-12-09T21:25:38.506Z"
   },
   {
    "duration": 227,
    "start_time": "2024-12-09T21:25:39.063Z"
   },
   {
    "duration": 113549,
    "start_time": "2024-12-09T21:28:10.631Z"
   },
   {
    "duration": 4,
    "start_time": "2024-12-09T21:35:43.079Z"
   },
   {
    "duration": 549,
    "start_time": "2024-12-09T21:37:45.584Z"
   },
   {
    "duration": 32,
    "start_time": "2024-12-09T21:37:46.156Z"
   },
   {
    "duration": 9,
    "start_time": "2024-12-09T21:37:46.583Z"
   },
   {
    "duration": 16,
    "start_time": "2024-12-09T21:37:46.994Z"
   },
   {
    "duration": 3,
    "start_time": "2024-12-09T21:37:48.188Z"
   },
   {
    "duration": 7,
    "start_time": "2024-12-09T21:37:49.171Z"
   },
   {
    "duration": 5,
    "start_time": "2024-12-09T21:37:50.138Z"
   },
   {
    "duration": 17,
    "start_time": "2024-12-09T21:37:51.691Z"
   },
   {
    "duration": 253,
    "start_time": "2024-12-09T21:37:54.005Z"
   },
   {
    "duration": 254,
    "start_time": "2024-12-09T21:37:54.642Z"
   },
   {
    "duration": 296,
    "start_time": "2024-12-09T21:37:55.317Z"
   },
   {
    "duration": 329,
    "start_time": "2024-12-09T21:37:59.408Z"
   },
   {
    "duration": 232,
    "start_time": "2024-12-09T21:38:00.042Z"
   },
   {
    "duration": 3,
    "start_time": "2024-12-09T21:38:06.794Z"
   },
   {
    "duration": 4,
    "start_time": "2024-12-09T21:38:08.389Z"
   },
   {
    "duration": 4,
    "start_time": "2024-12-09T21:38:28.215Z"
   },
   {
    "duration": 113977,
    "start_time": "2024-12-09T21:38:31.269Z"
   },
   {
    "duration": 111632,
    "start_time": "2024-12-09T21:43:16.511Z"
   },
   {
    "duration": 217,
    "start_time": "2024-12-09T21:49:29.407Z"
   },
   {
    "duration": 3,
    "start_time": "2024-12-09T21:49:32.659Z"
   },
   {
    "duration": 260,
    "start_time": "2024-12-09T21:55:43.916Z"
   },
   {
    "duration": 218,
    "start_time": "2024-12-09T21:56:01.606Z"
   },
   {
    "duration": 199,
    "start_time": "2024-12-09T21:56:08.780Z"
   },
   {
    "duration": 380,
    "start_time": "2024-12-09T21:56:16.445Z"
   },
   {
    "duration": 274,
    "start_time": "2024-12-09T21:56:25.891Z"
   },
   {
    "duration": 246,
    "start_time": "2024-12-09T21:56:32.116Z"
   },
   {
    "duration": 286,
    "start_time": "2024-12-09T21:57:17.852Z"
   },
   {
    "duration": 15,
    "start_time": "2024-12-09T21:58:57.733Z"
   },
   {
    "duration": 260,
    "start_time": "2024-12-09T22:00:36.958Z"
   },
   {
    "duration": 3,
    "start_time": "2024-12-09T22:00:38.827Z"
   },
   {
    "duration": 2,
    "start_time": "2024-12-09T22:02:31.717Z"
   },
   {
    "duration": 3,
    "start_time": "2024-12-09T22:02:31.721Z"
   },
   {
    "duration": 535,
    "start_time": "2024-12-09T22:02:31.726Z"
   },
   {
    "duration": 39,
    "start_time": "2024-12-09T22:02:32.263Z"
   },
   {
    "duration": 7,
    "start_time": "2024-12-09T22:02:32.305Z"
   },
   {
    "duration": 13,
    "start_time": "2024-12-09T22:02:32.314Z"
   },
   {
    "duration": 6,
    "start_time": "2024-12-09T22:02:32.329Z"
   },
   {
    "duration": 5,
    "start_time": "2024-12-09T22:02:32.336Z"
   },
   {
    "duration": 47,
    "start_time": "2024-12-09T22:02:32.344Z"
   },
   {
    "duration": 253,
    "start_time": "2024-12-09T22:02:32.392Z"
   },
   {
    "duration": 367,
    "start_time": "2024-12-09T22:02:32.648Z"
   },
   {
    "duration": 294,
    "start_time": "2024-12-09T22:02:33.017Z"
   },
   {
    "duration": 210,
    "start_time": "2024-12-09T22:02:33.313Z"
   },
   {
    "duration": 219,
    "start_time": "2024-12-09T22:02:33.525Z"
   },
   {
    "duration": 302,
    "start_time": "2024-12-09T22:02:33.745Z"
   },
   {
    "duration": 4,
    "start_time": "2024-12-09T22:02:34.049Z"
   },
   {
    "duration": 182,
    "start_time": "2024-12-09T22:04:30.069Z"
   },
   {
    "duration": 22,
    "start_time": "2024-12-09T22:06:36.007Z"
   },
   {
    "duration": 255465,
    "start_time": "2024-12-09T22:06:52.124Z"
   },
   {
    "duration": 116728,
    "start_time": "2024-12-09T22:16:15.894Z"
   },
   {
    "duration": 514,
    "start_time": "2024-12-09T22:46:24.743Z"
   },
   {
    "duration": 2711,
    "start_time": "2024-12-10T20:52:25.343Z"
   },
   {
    "duration": 666,
    "start_time": "2024-12-10T20:52:28.056Z"
   },
   {
    "duration": 34,
    "start_time": "2024-12-10T20:52:28.724Z"
   },
   {
    "duration": 28,
    "start_time": "2024-12-10T20:52:28.761Z"
   },
   {
    "duration": 15,
    "start_time": "2024-12-10T20:52:28.792Z"
   },
   {
    "duration": 7,
    "start_time": "2024-12-10T20:52:28.810Z"
   },
   {
    "duration": 6,
    "start_time": "2024-12-10T20:52:28.819Z"
   },
   {
    "duration": 19,
    "start_time": "2024-12-10T20:52:28.827Z"
   },
   {
    "duration": 295,
    "start_time": "2024-12-10T20:52:30.467Z"
   },
   {
    "duration": 335,
    "start_time": "2024-12-10T20:52:30.861Z"
   },
   {
    "duration": 292,
    "start_time": "2024-12-10T20:52:31.349Z"
   },
   {
    "duration": 220,
    "start_time": "2024-12-10T20:52:33.027Z"
   },
   {
    "duration": 225,
    "start_time": "2024-12-10T20:52:33.389Z"
   },
   {
    "duration": 264,
    "start_time": "2024-12-10T20:52:34.701Z"
   },
   {
    "duration": 4,
    "start_time": "2024-12-10T20:52:38.693Z"
   },
   {
    "duration": 245975,
    "start_time": "2024-12-10T20:52:39.557Z"
   },
   {
    "duration": 112783,
    "start_time": "2024-12-10T20:56:45.535Z"
   },
   {
    "duration": 2,
    "start_time": "2024-12-10T20:58:38.320Z"
   },
   {
    "duration": 15,
    "start_time": "2024-12-10T20:58:38.324Z"
   },
   {
    "duration": 3,
    "start_time": "2024-12-10T21:05:55.906Z"
   },
   {
    "duration": 223557,
    "start_time": "2024-12-10T21:05:55.911Z"
   },
   {
    "duration": 110979,
    "start_time": "2024-12-10T21:09:39.470Z"
   },
   {
    "duration": 322,
    "start_time": "2024-12-10T21:11:30.696Z"
   },
   {
    "duration": 7,
    "start_time": "2024-12-10T21:30:56.581Z"
   },
   {
    "duration": 246,
    "start_time": "2024-12-10T21:31:00.156Z"
   },
   {
    "duration": 218884,
    "start_time": "2024-12-10T21:48:28.661Z"
   },
   {
    "duration": 219211,
    "start_time": "2024-12-10T21:53:55.730Z"
   },
   {
    "duration": 109087,
    "start_time": "2024-12-10T21:57:34.943Z"
   },
   {
    "duration": 31,
    "start_time": "2024-12-10T22:19:40.950Z"
   },
   {
    "duration": 40,
    "start_time": "2024-12-10T22:19:54.758Z"
   },
   {
    "duration": 15,
    "start_time": "2024-12-10T22:20:07.423Z"
   },
   {
    "duration": 471,
    "start_time": "2024-12-10T22:20:47.267Z"
   },
   {
    "duration": 14,
    "start_time": "2024-12-10T22:20:51.517Z"
   },
   {
    "duration": 61,
    "start_time": "2024-12-10T22:20:52.028Z"
   },
   {
    "duration": 18,
    "start_time": "2024-12-10T22:22:00.050Z"
   },
   {
    "duration": 24,
    "start_time": "2024-12-10T22:22:46.725Z"
   },
   {
    "duration": 21,
    "start_time": "2024-12-10T22:22:53.111Z"
   },
   {
    "duration": 19,
    "start_time": "2024-12-10T22:23:36.157Z"
   },
   {
    "duration": 46,
    "start_time": "2024-12-10T22:23:39.154Z"
   },
   {
    "duration": 14,
    "start_time": "2024-12-10T23:11:56.390Z"
   },
   {
    "duration": 456,
    "start_time": "2024-12-10T23:14:47.742Z"
   },
   {
    "duration": 9,
    "start_time": "2024-12-10T23:15:50.189Z"
   },
   {
    "duration": 25,
    "start_time": "2024-12-10T23:16:01.031Z"
   },
   {
    "duration": 17,
    "start_time": "2024-12-10T23:16:27.253Z"
   },
   {
    "duration": 12,
    "start_time": "2024-12-10T23:16:58.458Z"
   },
   {
    "duration": 15,
    "start_time": "2024-12-10T23:17:08.708Z"
   },
   {
    "duration": 14,
    "start_time": "2024-12-10T23:17:40.494Z"
   },
   {
    "duration": 38,
    "start_time": "2024-12-10T23:17:41.320Z"
   },
   {
    "duration": 42,
    "start_time": "2024-12-10T23:22:10.482Z"
   },
   {
    "duration": 2714,
    "start_time": "2024-12-11T00:04:51.800Z"
   },
   {
    "duration": 617,
    "start_time": "2024-12-11T00:04:54.516Z"
   },
   {
    "duration": 37,
    "start_time": "2024-12-11T00:04:55.135Z"
   },
   {
    "duration": 7,
    "start_time": "2024-12-11T00:04:55.175Z"
   },
   {
    "duration": 34,
    "start_time": "2024-12-11T00:04:55.184Z"
   },
   {
    "duration": 6,
    "start_time": "2024-12-11T00:04:55.220Z"
   },
   {
    "duration": 5,
    "start_time": "2024-12-11T00:04:55.227Z"
   },
   {
    "duration": 16,
    "start_time": "2024-12-11T00:04:55.321Z"
   },
   {
    "duration": 258,
    "start_time": "2024-12-11T00:04:56.317Z"
   },
   {
    "duration": 301,
    "start_time": "2024-12-11T00:04:56.855Z"
   },
   {
    "duration": 259,
    "start_time": "2024-12-11T00:04:57.401Z"
   },
   {
    "duration": 195,
    "start_time": "2024-12-11T00:04:58.656Z"
   },
   {
    "duration": 212,
    "start_time": "2024-12-11T00:04:59.598Z"
   },
   {
    "duration": 253,
    "start_time": "2024-12-11T00:05:00.382Z"
   },
   {
    "duration": 13,
    "start_time": "2024-12-11T00:05:01.157Z"
   },
   {
    "duration": 3,
    "start_time": "2024-12-11T00:05:02.194Z"
   },
   {
    "duration": 216426,
    "start_time": "2024-12-11T00:05:02.799Z"
   },
   {
    "duration": 106967,
    "start_time": "2024-12-11T00:08:39.228Z"
   },
   {
    "duration": 21,
    "start_time": "2024-12-11T00:10:26.197Z"
   },
   {
    "duration": 453,
    "start_time": "2024-12-11T00:10:26.220Z"
   },
   {
    "duration": 2595,
    "start_time": "2024-12-11T08:37:01.942Z"
   },
   {
    "duration": 604,
    "start_time": "2024-12-11T08:37:04.539Z"
   },
   {
    "duration": 34,
    "start_time": "2024-12-11T08:37:05.145Z"
   },
   {
    "duration": 8,
    "start_time": "2024-12-11T08:37:05.181Z"
   },
   {
    "duration": 14,
    "start_time": "2024-12-11T08:37:05.190Z"
   },
   {
    "duration": 6,
    "start_time": "2024-12-11T08:37:05.206Z"
   },
   {
    "duration": 5,
    "start_time": "2024-12-11T08:37:05.214Z"
   },
   {
    "duration": 55,
    "start_time": "2024-12-11T08:37:05.221Z"
   },
   {
    "duration": 305,
    "start_time": "2024-12-11T08:37:05.629Z"
   },
   {
    "duration": 244,
    "start_time": "2024-12-11T08:37:06.019Z"
   },
   {
    "duration": 263,
    "start_time": "2024-12-11T08:37:06.670Z"
   },
   {
    "duration": 195,
    "start_time": "2024-12-11T08:37:07.620Z"
   },
   {
    "duration": 203,
    "start_time": "2024-12-11T08:37:08.342Z"
   },
   {
    "duration": 246,
    "start_time": "2024-12-11T08:37:09.100Z"
   },
   {
    "duration": 13,
    "start_time": "2024-12-11T08:37:11.991Z"
   },
   {
    "duration": 4,
    "start_time": "2024-12-11T08:37:13.041Z"
   },
   {
    "duration": 214809,
    "start_time": "2024-12-11T08:37:13.792Z"
   },
   {
    "duration": 105903,
    "start_time": "2024-12-11T08:40:48.604Z"
   },
   {
    "duration": 550,
    "start_time": "2024-12-11T08:42:34.527Z"
   },
   {
    "duration": 0,
    "start_time": "2024-12-11T08:42:35.079Z"
   },
   {
    "duration": 0,
    "start_time": "2024-12-11T08:42:35.080Z"
   },
   {
    "duration": 2732,
    "start_time": "2024-12-11T10:06:14.578Z"
   },
   {
    "duration": 622,
    "start_time": "2024-12-11T10:06:17.312Z"
   },
   {
    "duration": 37,
    "start_time": "2024-12-11T10:06:17.935Z"
   },
   {
    "duration": 7,
    "start_time": "2024-12-11T10:06:17.975Z"
   },
   {
    "duration": 15,
    "start_time": "2024-12-11T10:06:17.983Z"
   },
   {
    "duration": 6,
    "start_time": "2024-12-11T10:06:18.000Z"
   },
   {
    "duration": 5,
    "start_time": "2024-12-11T10:06:18.008Z"
   },
   {
    "duration": 17,
    "start_time": "2024-12-11T10:06:18.015Z"
   },
   {
    "duration": 355,
    "start_time": "2024-12-11T10:06:18.033Z"
   },
   {
    "duration": 249,
    "start_time": "2024-12-11T10:06:18.390Z"
   },
   {
    "duration": 260,
    "start_time": "2024-12-11T10:06:18.641Z"
   },
   {
    "duration": 193,
    "start_time": "2024-12-11T10:06:19.585Z"
   },
   {
    "duration": 202,
    "start_time": "2024-12-11T10:06:20.789Z"
   },
   {
    "duration": 245,
    "start_time": "2024-12-11T10:06:22.632Z"
   },
   {
    "duration": 12,
    "start_time": "2024-12-11T10:06:25.123Z"
   },
   {
    "duration": 4,
    "start_time": "2024-12-11T10:06:26.597Z"
   },
   {
    "duration": 214977,
    "start_time": "2024-12-11T10:06:27.837Z"
   },
   {
    "duration": 105515,
    "start_time": "2024-12-11T10:10:02.816Z"
   },
   {
    "duration": 14,
    "start_time": "2024-12-11T10:11:48.333Z"
   },
   {
    "duration": 21,
    "start_time": "2024-12-11T10:11:48.350Z"
   },
   {
    "duration": 334,
    "start_time": "2024-12-11T10:11:48.372Z"
   },
   {
    "duration": 712,
    "start_time": "2024-12-11T10:16:50.959Z"
   },
   {
    "duration": 38,
    "start_time": "2024-12-11T10:17:04.404Z"
   },
   {
    "duration": 15,
    "start_time": "2024-12-11T10:17:19.751Z"
   },
   {
    "duration": 2,
    "start_time": "2024-12-11T10:17:29.069Z"
   },
   {
    "duration": 36,
    "start_time": "2024-12-11T10:17:29.846Z"
   },
   {
    "duration": 2639,
    "start_time": "2024-12-11T20:07:03.288Z"
   },
   {
    "duration": 594,
    "start_time": "2024-12-11T20:07:05.929Z"
   },
   {
    "duration": 32,
    "start_time": "2024-12-11T20:07:06.525Z"
   },
   {
    "duration": 9,
    "start_time": "2024-12-11T20:07:06.559Z"
   },
   {
    "duration": 16,
    "start_time": "2024-12-11T20:07:06.569Z"
   },
   {
    "duration": 29,
    "start_time": "2024-12-11T20:07:06.587Z"
   },
   {
    "duration": 5,
    "start_time": "2024-12-11T20:07:06.618Z"
   },
   {
    "duration": 19,
    "start_time": "2024-12-11T20:07:06.827Z"
   },
   {
    "duration": 335,
    "start_time": "2024-12-11T20:07:08.567Z"
   },
   {
    "duration": 271,
    "start_time": "2024-12-11T20:07:09.162Z"
   },
   {
    "duration": 257,
    "start_time": "2024-12-11T20:07:09.846Z"
   },
   {
    "duration": 193,
    "start_time": "2024-12-11T20:07:11.320Z"
   },
   {
    "duration": 206,
    "start_time": "2024-12-11T20:07:13.090Z"
   },
   {
    "duration": 277,
    "start_time": "2024-12-11T20:07:14.546Z"
   },
   {
    "duration": 13,
    "start_time": "2024-12-11T20:07:16.481Z"
   },
   {
    "duration": 4,
    "start_time": "2024-12-11T20:07:17.583Z"
   },
   {
    "duration": 218099,
    "start_time": "2024-12-11T20:07:18.831Z"
   },
   {
    "duration": 107781,
    "start_time": "2024-12-11T20:10:56.932Z"
   },
   {
    "duration": 3,
    "start_time": "2024-12-11T20:12:44.715Z"
   },
   {
    "duration": 18,
    "start_time": "2024-12-11T20:12:44.721Z"
   },
   {
    "duration": 8,
    "start_time": "2024-12-11T20:12:44.741Z"
   },
   {
    "duration": 380,
    "start_time": "2024-12-11T20:12:44.751Z"
   },
   {
    "duration": 2734,
    "start_time": "2024-12-11T22:52:03.755Z"
   },
   {
    "duration": 608,
    "start_time": "2024-12-11T22:52:06.492Z"
   },
   {
    "duration": 41,
    "start_time": "2024-12-11T22:52:07.102Z"
   },
   {
    "duration": 7,
    "start_time": "2024-12-11T22:52:07.145Z"
   },
   {
    "duration": 14,
    "start_time": "2024-12-11T22:52:07.153Z"
   },
   {
    "duration": 6,
    "start_time": "2024-12-11T22:52:07.169Z"
   },
   {
    "duration": 5,
    "start_time": "2024-12-11T22:52:07.177Z"
   },
   {
    "duration": 21,
    "start_time": "2024-12-11T22:52:07.184Z"
   },
   {
    "duration": 316,
    "start_time": "2024-12-11T22:52:07.206Z"
   },
   {
    "duration": 273,
    "start_time": "2024-12-11T22:52:07.525Z"
   },
   {
    "duration": 339,
    "start_time": "2024-12-11T22:52:07.799Z"
   },
   {
    "duration": 211,
    "start_time": "2024-12-11T22:52:08.142Z"
   },
   {
    "duration": 228,
    "start_time": "2024-12-11T22:52:08.355Z"
   },
   {
    "duration": 260,
    "start_time": "2024-12-11T22:52:08.683Z"
   },
   {
    "duration": 14,
    "start_time": "2024-12-11T22:52:09.322Z"
   },
   {
    "duration": 3,
    "start_time": "2024-12-11T22:52:10.964Z"
   },
   {
    "duration": 4,
    "start_time": "2024-12-11T22:56:22.103Z"
   },
   {
    "duration": 24,
    "start_time": "2024-12-11T22:56:58.899Z"
   },
   {
    "duration": 6,
    "start_time": "2024-12-11T22:58:03.734Z"
   },
   {
    "duration": 6,
    "start_time": "2024-12-11T22:58:16.945Z"
   },
   {
    "duration": 23,
    "start_time": "2024-12-11T22:58:27.303Z"
   },
   {
    "duration": 6,
    "start_time": "2024-12-11T22:58:39.829Z"
   },
   {
    "duration": 5,
    "start_time": "2024-12-11T22:58:43.065Z"
   },
   {
    "duration": 22,
    "start_time": "2024-12-11T22:58:48.191Z"
   },
   {
    "duration": 183231,
    "start_time": "2024-12-11T23:00:37.740Z"
   },
   {
    "duration": 490,
    "start_time": "2024-12-11T23:06:46.408Z"
   },
   {
    "duration": 155,
    "start_time": "2024-12-11T23:07:07.991Z"
   },
   {
    "duration": 96748,
    "start_time": "2024-12-11T23:07:53.854Z"
   },
   {
    "duration": 2660,
    "start_time": "2024-12-12T05:26:38.846Z"
   },
   {
    "duration": 637,
    "start_time": "2024-12-12T05:26:41.508Z"
   },
   {
    "duration": 40,
    "start_time": "2024-12-12T05:26:42.147Z"
   },
   {
    "duration": 7,
    "start_time": "2024-12-12T05:27:09.044Z"
   },
   {
    "duration": 15,
    "start_time": "2024-12-12T05:27:10.092Z"
   },
   {
    "duration": 6,
    "start_time": "2024-12-12T05:27:10.498Z"
   },
   {
    "duration": 5,
    "start_time": "2024-12-12T05:27:11.031Z"
   },
   {
    "duration": 17,
    "start_time": "2024-12-12T05:27:14.553Z"
   },
   {
    "duration": 262,
    "start_time": "2024-12-12T05:27:15.307Z"
   },
   {
    "duration": 247,
    "start_time": "2024-12-12T05:27:15.708Z"
   },
   {
    "duration": 327,
    "start_time": "2024-12-12T05:27:16.090Z"
   },
   {
    "duration": 193,
    "start_time": "2024-12-12T05:27:16.658Z"
   },
   {
    "duration": 211,
    "start_time": "2024-12-12T05:27:17.025Z"
   },
   {
    "duration": 245,
    "start_time": "2024-12-12T05:27:17.377Z"
   },
   {
    "duration": 12,
    "start_time": "2024-12-12T05:27:17.797Z"
   },
   {
    "duration": 4,
    "start_time": "2024-12-12T05:27:18.164Z"
   },
   {
    "duration": 8,
    "start_time": "2024-12-12T05:27:18.474Z"
   },
   {
    "duration": 373191,
    "start_time": "2024-12-12T05:27:18.987Z"
   },
   {
    "duration": 95211,
    "start_time": "2024-12-12T05:33:32.180Z"
   },
   {
    "duration": 2,
    "start_time": "2024-12-12T05:35:07.393Z"
   },
   {
    "duration": 16,
    "start_time": "2024-12-12T05:35:07.397Z"
   },
   {
    "duration": 2,
    "start_time": "2024-12-12T05:35:07.416Z"
   },
   {
    "duration": 462,
    "start_time": "2024-12-12T05:35:07.424Z"
   },
   {
    "duration": 20,
    "start_time": "2024-12-12T05:42:03.208Z"
   },
   {
    "duration": 7,
    "start_time": "2024-12-12T05:48:32.565Z"
   },
   {
    "duration": 15,
    "start_time": "2024-12-12T05:50:55.209Z"
   },
   {
    "duration": 361,
    "start_time": "2024-12-12T05:51:21.305Z"
   },
   {
    "duration": 2774,
    "start_time": "2024-12-12T06:23:15.884Z"
   },
   {
    "duration": 611,
    "start_time": "2024-12-12T06:23:18.660Z"
   },
   {
    "duration": 38,
    "start_time": "2024-12-12T06:23:19.273Z"
   },
   {
    "duration": 7,
    "start_time": "2024-12-12T06:23:19.314Z"
   },
   {
    "duration": 14,
    "start_time": "2024-12-12T06:23:19.323Z"
   },
   {
    "duration": 6,
    "start_time": "2024-12-12T06:23:21.336Z"
   },
   {
    "duration": 5,
    "start_time": "2024-12-12T06:23:26.180Z"
   },
   {
    "duration": 19,
    "start_time": "2024-12-12T06:23:27.971Z"
   },
   {
    "duration": 319,
    "start_time": "2024-12-12T06:23:56.299Z"
   },
   {
    "duration": 244,
    "start_time": "2024-12-12T06:24:14.723Z"
   },
   {
    "duration": 251,
    "start_time": "2024-12-12T06:24:15.903Z"
   },
   {
    "duration": 206,
    "start_time": "2024-12-12T06:24:18.034Z"
   },
   {
    "duration": 216,
    "start_time": "2024-12-12T06:24:20.420Z"
   },
   {
    "duration": 248,
    "start_time": "2024-12-12T06:24:22.688Z"
   },
   {
    "duration": 14,
    "start_time": "2024-12-12T06:24:23.660Z"
   },
   {
    "duration": 4,
    "start_time": "2024-12-12T06:24:24.764Z"
   },
   {
    "duration": 93,
    "start_time": "2024-12-12T06:24:25.136Z"
   },
   {
    "duration": 372075,
    "start_time": "2024-12-12T06:24:28.214Z"
   },
   {
    "duration": 15,
    "start_time": "2024-12-12T06:30:40.311Z"
   },
   {
    "duration": 20,
    "start_time": "2024-12-12T08:04:28.279Z"
   },
   {
    "duration": 245,
    "start_time": "2024-12-12T08:05:16.452Z"
   },
   {
    "duration": 8,
    "start_time": "2024-12-12T08:05:17.767Z"
   },
   {
    "duration": 3,
    "start_time": "2024-12-12T08:05:19.039Z"
   },
   {
    "duration": 6,
    "start_time": "2024-12-12T08:05:19.736Z"
   },
   {
    "duration": 355632,
    "start_time": "2024-12-12T08:05:21.857Z"
   },
   {
    "duration": 91957,
    "start_time": "2024-12-12T08:11:17.492Z"
   },
   {
    "duration": 2,
    "start_time": "2024-12-12T08:12:49.451Z"
   },
   {
    "duration": 17,
    "start_time": "2024-12-12T08:12:49.456Z"
   },
   {
    "duration": 17,
    "start_time": "2024-12-12T08:12:49.487Z"
   },
   {
    "duration": 354,
    "start_time": "2024-12-12T08:12:49.506Z"
   },
   {
    "duration": 109,
    "start_time": "2024-12-12T08:14:58.694Z"
   },
   {
    "duration": 121,
    "start_time": "2024-12-12T08:15:06.231Z"
   },
   {
    "duration": 357316,
    "start_time": "2024-12-12T08:22:23.631Z"
   },
   {
    "duration": 218,
    "start_time": "2024-12-12T08:28:42.880Z"
   },
   {
    "duration": 2,
    "start_time": "2024-12-12T08:28:46.094Z"
   },
   {
    "duration": 15,
    "start_time": "2024-12-12T08:28:46.805Z"
   },
   {
    "duration": 16,
    "start_time": "2024-12-12T08:28:47.798Z"
   },
   {
    "duration": 14,
    "start_time": "2024-12-12T08:28:48.756Z"
   },
   {
    "duration": 15,
    "start_time": "2024-12-12T08:30:12.224Z"
   },
   {
    "duration": 3,
    "start_time": "2024-12-12T08:31:56.570Z"
   },
   {
    "duration": 538,
    "start_time": "2024-12-12T08:31:56.910Z"
   },
   {
    "duration": 40,
    "start_time": "2024-12-12T08:31:57.450Z"
   },
   {
    "duration": 8,
    "start_time": "2024-12-12T08:31:57.610Z"
   },
   {
    "duration": 14,
    "start_time": "2024-12-12T08:31:58.505Z"
   },
   {
    "duration": 6,
    "start_time": "2024-12-12T08:31:58.884Z"
   },
   {
    "duration": 5,
    "start_time": "2024-12-12T08:31:59.911Z"
   },
   {
    "duration": 17,
    "start_time": "2024-12-12T08:32:01.096Z"
   },
   {
    "duration": 376,
    "start_time": "2024-12-12T08:32:03.016Z"
   },
   {
    "duration": 263,
    "start_time": "2024-12-12T08:32:03.978Z"
   },
   {
    "duration": 270,
    "start_time": "2024-12-12T08:32:05.614Z"
   },
   {
    "duration": 214,
    "start_time": "2024-12-12T08:32:07.378Z"
   },
   {
    "duration": 220,
    "start_time": "2024-12-12T08:32:08.668Z"
   },
   {
    "duration": 255,
    "start_time": "2024-12-12T08:32:10.871Z"
   },
   {
    "duration": 14,
    "start_time": "2024-12-12T08:32:15.219Z"
   },
   {
    "duration": 4,
    "start_time": "2024-12-12T08:32:17.029Z"
   },
   {
    "duration": 6,
    "start_time": "2024-12-12T08:32:19.411Z"
   },
   {
    "duration": 178329,
    "start_time": "2024-12-12T08:32:22.424Z"
   },
   {
    "duration": 15,
    "start_time": "2024-12-12T08:35:30.146Z"
   },
   {
    "duration": 7,
    "start_time": "2024-12-12T08:35:58.958Z"
   },
   {
    "duration": 3,
    "start_time": "2024-12-12T08:36:00.566Z"
   },
   {
    "duration": 14,
    "start_time": "2024-12-12T08:36:00.980Z"
   },
   {
    "duration": 177744,
    "start_time": "2024-12-12T08:36:10.127Z"
   },
   {
    "duration": 14,
    "start_time": "2024-12-12T08:39:07.873Z"
   },
   {
    "duration": 22,
    "start_time": "2024-12-12T08:41:24.497Z"
   },
   {
    "duration": 12,
    "start_time": "2024-12-12T08:42:42.898Z"
   },
   {
    "duration": 177910,
    "start_time": "2024-12-12T08:42:45.297Z"
   },
   {
    "duration": 12,
    "start_time": "2024-12-12T08:49:45.071Z"
   },
   {
    "duration": 3,
    "start_time": "2024-12-12T08:52:22.848Z"
   },
   {
    "duration": 539,
    "start_time": "2024-12-12T08:52:23.035Z"
   },
   {
    "duration": 33,
    "start_time": "2024-12-12T08:52:23.577Z"
   },
   {
    "duration": 9,
    "start_time": "2024-12-12T08:52:23.611Z"
   },
   {
    "duration": 14,
    "start_time": "2024-12-12T08:52:23.756Z"
   },
   {
    "duration": 7,
    "start_time": "2024-12-12T08:52:23.944Z"
   },
   {
    "duration": 4,
    "start_time": "2024-12-12T08:52:24.323Z"
   },
   {
    "duration": 254,
    "start_time": "2024-12-12T08:52:25.436Z"
   },
   {
    "duration": 264,
    "start_time": "2024-12-12T08:52:25.829Z"
   },
   {
    "duration": 260,
    "start_time": "2024-12-12T08:52:26.197Z"
   },
   {
    "duration": 196,
    "start_time": "2024-12-12T08:52:26.763Z"
   },
   {
    "duration": 210,
    "start_time": "2024-12-12T08:52:27.157Z"
   },
   {
    "duration": 368,
    "start_time": "2024-12-12T08:52:27.553Z"
   },
   {
    "duration": 26,
    "start_time": "2024-12-12T08:52:27.976Z"
   },
   {
    "duration": 3,
    "start_time": "2024-12-12T08:52:28.369Z"
   },
   {
    "duration": 13,
    "start_time": "2024-12-12T08:52:28.771Z"
   },
   {
    "duration": 176996,
    "start_time": "2024-12-12T08:52:29.083Z"
   },
   {
    "duration": 122,
    "start_time": "2024-12-12T08:55:26.087Z"
   },
   {
    "duration": 101,
    "start_time": "2024-12-12T08:55:26.211Z"
   },
   {
    "duration": 77,
    "start_time": "2024-12-12T08:55:26.314Z"
   },
   {
    "duration": 14,
    "start_time": "2024-12-12T08:58:40.789Z"
   },
   {
    "duration": 14,
    "start_time": "2024-12-12T08:59:30.751Z"
   },
   {
    "duration": 258,
    "start_time": "2024-12-12T08:59:32.006Z"
   },
   {
    "duration": 259,
    "start_time": "2024-12-12T08:59:32.509Z"
   },
   {
    "duration": 286,
    "start_time": "2024-12-12T08:59:33.004Z"
   },
   {
    "duration": 217,
    "start_time": "2024-12-12T08:59:33.809Z"
   },
   {
    "duration": 327,
    "start_time": "2024-12-12T08:59:34.814Z"
   },
   {
    "duration": 257,
    "start_time": "2024-12-12T08:59:35.942Z"
   },
   {
    "duration": 24,
    "start_time": "2024-12-12T08:59:37.823Z"
   },
   {
    "duration": 3,
    "start_time": "2024-12-12T08:59:39.696Z"
   },
   {
    "duration": 7,
    "start_time": "2024-12-12T08:59:40.755Z"
   },
   {
    "duration": 177464,
    "start_time": "2024-12-12T08:59:41.496Z"
   },
   {
    "duration": 128,
    "start_time": "2024-12-12T09:02:38.962Z"
   },
   {
    "duration": 98,
    "start_time": "2024-12-12T09:02:39.092Z"
   },
   {
    "duration": 11,
    "start_time": "2024-12-12T09:02:39.192Z"
   },
   {
    "duration": 2927,
    "start_time": "2024-12-12T13:18:10.597Z"
   },
   {
    "duration": 597,
    "start_time": "2024-12-12T13:18:13.526Z"
   },
   {
    "duration": 37,
    "start_time": "2024-12-12T13:18:14.125Z"
   },
   {
    "duration": 7,
    "start_time": "2024-12-12T13:18:14.164Z"
   },
   {
    "duration": 15,
    "start_time": "2024-12-12T13:18:14.173Z"
   },
   {
    "duration": 6,
    "start_time": "2024-12-12T13:18:14.190Z"
   },
   {
    "duration": 38,
    "start_time": "2024-12-12T13:18:14.198Z"
   },
   {
    "duration": 19,
    "start_time": "2024-12-12T13:18:14.238Z"
   },
   {
    "duration": 275,
    "start_time": "2024-12-12T13:18:14.258Z"
   },
   {
    "duration": 264,
    "start_time": "2024-12-12T13:18:14.534Z"
   },
   {
    "duration": 337,
    "start_time": "2024-12-12T13:18:14.800Z"
   },
   {
    "duration": 206,
    "start_time": "2024-12-12T13:18:15.139Z"
   },
   {
    "duration": 211,
    "start_time": "2024-12-12T13:18:15.347Z"
   },
   {
    "duration": 256,
    "start_time": "2024-12-12T13:18:15.561Z"
   },
   {
    "duration": 39,
    "start_time": "2024-12-12T13:18:15.819Z"
   },
   {
    "duration": 4,
    "start_time": "2024-12-12T13:18:15.860Z"
   },
   {
    "duration": 6,
    "start_time": "2024-12-12T13:18:15.866Z"
   },
   {
    "duration": 156,
    "start_time": "2024-12-12T18:37:28.055Z"
   },
   {
    "duration": 2725,
    "start_time": "2024-12-12T18:37:36.131Z"
   },
   {
    "duration": 600,
    "start_time": "2024-12-12T18:37:38.858Z"
   },
   {
    "duration": 32,
    "start_time": "2024-12-12T18:37:39.460Z"
   },
   {
    "duration": 7,
    "start_time": "2024-12-12T18:37:39.494Z"
   },
   {
    "duration": 14,
    "start_time": "2024-12-12T18:37:41.523Z"
   },
   {
    "duration": 47,
    "start_time": "2024-12-12T18:38:00.860Z"
   },
   {
    "duration": 261,
    "start_time": "2024-12-12T18:39:53.372Z"
   },
   {
    "duration": 201,
    "start_time": "2024-12-12T18:41:02.246Z"
   },
   {
    "duration": 253,
    "start_time": "2024-12-12T18:41:13.595Z"
   },
   {
    "duration": 310,
    "start_time": "2024-12-12T18:41:24.839Z"
   }
  ],
  "kernelspec": {
   "display_name": "Python 3 (ipykernel)",
   "language": "python",
   "name": "python3"
  },
  "language_info": {
   "codemirror_mode": {
    "name": "ipython",
    "version": 3
   },
   "file_extension": ".py",
   "mimetype": "text/x-python",
   "name": "python",
   "nbconvert_exporter": "python",
   "pygments_lexer": "ipython3",
   "version": "3.9.19"
  },
  "toc": {
   "base_numbering": 1,
   "nav_menu": {},
   "number_sections": true,
   "sideBar": true,
   "skip_h1_title": true,
   "title_cell": "Table of Contents",
   "title_sidebar": "Contents",
   "toc_cell": false,
   "toc_position": {},
   "toc_section_display": true,
   "toc_window_display": true
  }
 },
 "nbformat": 4,
 "nbformat_minor": 2
}
